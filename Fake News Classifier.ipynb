{
  "nbformat": 4,
  "nbformat_minor": 0,
  "metadata": {
    "colab": {
      "name": "FakeNews.ipynb",
      "provenance": [],
      "collapsed_sections": [],
      "include_colab_link": true
    },
    "kernelspec": {
      "name": "python3",
      "display_name": "Python 3"
    },
    "accelerator": "GPU"
  },
  "cells": [
    {
      "cell_type": "markdown",
      "metadata": {
        "id": "view-in-github",
        "colab_type": "text"
      },
      "source": [
        "<a href=\"https://colab.research.google.com/github/aadityadamle/FakeNews/blob/master/Fake%20News%20Classifier.ipynb\" target=\"_parent\"><img src=\"https://colab.research.google.com/assets/colab-badge.svg\" alt=\"Open In Colab\"/></a>"
      ]
    },
    {
      "cell_type": "markdown",
      "metadata": {
        "id": "XDkR_W9kepay",
        "colab_type": "text"
      },
      "source": [
        "# Give the datasource reference here"
      ]
    },
    {
      "cell_type": "markdown",
      "metadata": {
        "id": "h7-QjvMBVd67",
        "colab_type": "text"
      },
      "source": [
        "The dataset of this project is taken from Kaggle. This dataset is divided into two files one of which contains fake news (fake.csv) and other contains true new (true.csv). We have to combine the two files before we do any futher processing.\n",
        "(https://www.kaggle.com/clmentbisaillon/fake-and-real-news-dataset)"
      ]
    },
    {
      "cell_type": "markdown",
      "metadata": {
        "id": "SryxutVF9sjq",
        "colab_type": "text"
      },
      "source": [
        "**1. Importing necessary libraries:**"
      ]
    },
    {
      "cell_type": "code",
      "metadata": {
        "id": "bZ2UASgI7fpW",
        "colab_type": "code",
        "colab": {}
      },
      "source": [
        "import pandas as pd\n",
        "import numpy as np\n",
        "import matplotlib.pyplot as plt\n",
        "import sklearn\n",
        "from sklearn.preprocessing import LabelEncoder\n",
        "from sklearn.model_selection import train_test_split\n",
        "import nltk\n",
        "from nltk.corpus import stopwords\n",
        "from nltk.tokenize import word_tokenize\n"
      ],
      "execution_count": 1,
      "outputs": []
    },
    {
      "cell_type": "code",
      "metadata": {
        "id": "znema3O_fHo_",
        "colab_type": "code",
        "colab": {
          "base_uri": "https://localhost:8080/",
          "height": 101
        },
        "outputId": "ceadf5a4-7e61-47f7-c82c-3b02ad2d2457"
      },
      "source": [
        "#Stopwords are the words in any language which does not add much meaning to a sentence. \n",
        "#They can safely be ignored without sacrificing the meaning of the sentence.\n",
        "# We download stopwords to get a list of such stopwords in english and then remove them from our data.\n",
        "nltk.download(\"stopwords\")\n",
        "\n",
        "# Punkt Sentence Tokenizer. This tokenizer divides a text into a list of sentences,\n",
        "# by using an unsupervised algorithm to build a model for abbreviation words, collocations,\n",
        "# and words that start sentences. Here we use its instance word_tokenize to get a list of all words in our data. \n",
        "nltk.download(\"punkt\")"
      ],
      "execution_count": 2,
      "outputs": [
        {
          "output_type": "stream",
          "text": [
            "[nltk_data] Downloading package stopwords to /root/nltk_data...\n",
            "[nltk_data]   Package stopwords is already up-to-date!\n",
            "[nltk_data] Downloading package punkt to /root/nltk_data...\n",
            "[nltk_data]   Package punkt is already up-to-date!\n"
          ],
          "name": "stdout"
        },
        {
          "output_type": "execute_result",
          "data": {
            "text/plain": [
              "True"
            ]
          },
          "metadata": {
            "tags": []
          },
          "execution_count": 2
        }
      ]
    },
    {
      "cell_type": "markdown",
      "metadata": {
        "id": "Dn3GYpJQ-B9T",
        "colab_type": "text"
      },
      "source": [
        "**2. Loading the datasets**"
      ]
    },
    {
      "cell_type": "code",
      "metadata": {
        "id": "A35MnqX86DqK",
        "colab_type": "code",
        "colab": {
          "base_uri": "https://localhost:8080/",
          "height": 689
        },
        "outputId": "8f64e9e8-5fc4-4731-d3d8-76f4b3ee009d"
      },
      "source": [
        "!wget https://github.com/aadityadamle/FakeNews/blob/master/572515_1037534_compressed_Fake.csv.zip?raw=true\n",
        "!wget https://github.com/aadityadamle/FakeNews/blob/master/572515_1037534_compressed_True.csv.zip?raw=true"
      ],
      "execution_count": 3,
      "outputs": [
        {
          "output_type": "stream",
          "text": [
            "--2020-08-13 09:45:46--  https://github.com/aadityadamle/FakeNews/blob/master/572515_1037534_compressed_Fake.csv.zip?raw=true\n",
            "Resolving github.com (github.com)... 140.82.118.3\n",
            "Connecting to github.com (github.com)|140.82.118.3|:443... connected.\n",
            "HTTP request sent, awaiting response... 302 Found\n",
            "Location: https://github.com/aadityadamle/FakeNews/raw/master/572515_1037534_compressed_Fake.csv.zip [following]\n",
            "--2020-08-13 09:45:46--  https://github.com/aadityadamle/FakeNews/raw/master/572515_1037534_compressed_Fake.csv.zip\n",
            "Reusing existing connection to github.com:443.\n",
            "HTTP request sent, awaiting response... 302 Found\n",
            "Location: https://raw.githubusercontent.com/aadityadamle/FakeNews/master/572515_1037534_compressed_Fake.csv.zip [following]\n",
            "--2020-08-13 09:45:47--  https://raw.githubusercontent.com/aadityadamle/FakeNews/master/572515_1037534_compressed_Fake.csv.zip\n",
            "Resolving raw.githubusercontent.com (raw.githubusercontent.com)... 151.101.0.133, 151.101.64.133, 151.101.128.133, ...\n",
            "Connecting to raw.githubusercontent.com (raw.githubusercontent.com)|151.101.0.133|:443... connected.\n",
            "HTTP request sent, awaiting response... 200 OK\n",
            "Length: 23982555 (23M) [application/zip]\n",
            "Saving to: ‘572515_1037534_compressed_Fake.csv.zip?raw=true.1’\n",
            "\n",
            "\r          572515_10   0%[                    ]       0  --.-KB/s               \r         572515_103  65%[============>       ]  14.91M  74.6MB/s               \r572515_1037534_comp 100%[===================>]  22.87M  98.8MB/s    in 0.2s    \n",
            "\n",
            "2020-08-13 09:45:47 (98.8 MB/s) - ‘572515_1037534_compressed_Fake.csv.zip?raw=true.1’ saved [23982555/23982555]\n",
            "\n",
            "--2020-08-13 09:45:50--  https://github.com/aadityadamle/FakeNews/blob/master/572515_1037534_compressed_True.csv.zip?raw=true\n",
            "Resolving github.com (github.com)... 140.82.118.4\n",
            "Connecting to github.com (github.com)|140.82.118.4|:443... connected.\n",
            "HTTP request sent, awaiting response... 302 Found\n",
            "Location: https://github.com/aadityadamle/FakeNews/raw/master/572515_1037534_compressed_True.csv.zip [following]\n",
            "--2020-08-13 09:45:50--  https://github.com/aadityadamle/FakeNews/raw/master/572515_1037534_compressed_True.csv.zip\n",
            "Reusing existing connection to github.com:443.\n",
            "HTTP request sent, awaiting response... 302 Found\n",
            "Location: https://raw.githubusercontent.com/aadityadamle/FakeNews/master/572515_1037534_compressed_True.csv.zip [following]\n",
            "--2020-08-13 09:45:50--  https://raw.githubusercontent.com/aadityadamle/FakeNews/master/572515_1037534_compressed_True.csv.zip\n",
            "Resolving raw.githubusercontent.com (raw.githubusercontent.com)... 151.101.0.133, 151.101.64.133, 151.101.128.133, ...\n",
            "Connecting to raw.githubusercontent.com (raw.githubusercontent.com)|151.101.0.133|:443... connected.\n",
            "HTTP request sent, awaiting response... 200 OK\n",
            "Length: 18993378 (18M) [application/zip]\n",
            "Saving to: ‘572515_1037534_compressed_True.csv.zip?raw=true.1’\n",
            "\n",
            "572515_1037534_comp 100%[===================>]  18.11M  86.3MB/s    in 0.2s    \n",
            "\n",
            "2020-08-13 09:45:51 (86.3 MB/s) - ‘572515_1037534_compressed_True.csv.zip?raw=true.1’ saved [18993378/18993378]\n",
            "\n"
          ],
          "name": "stdout"
        }
      ]
    },
    {
      "cell_type": "code",
      "metadata": {
        "id": "q22TPeM56vei",
        "colab_type": "code",
        "colab": {
          "base_uri": "https://localhost:8080/",
          "height": 84
        },
        "outputId": "c7ac5f0e-2e89-400f-a223-faf77750541b"
      },
      "source": [
        "!unzip \"/content/572515_1037534_compressed_Fake.csv.zip?raw=true\"\n",
        "!unzip \"/content/572515_1037534_compressed_True.csv.zip?raw=true\""
      ],
      "execution_count": 4,
      "outputs": [
        {
          "output_type": "stream",
          "text": [
            "Archive:  /content/572515_1037534_compressed_Fake.csv.zip?raw=true\n",
            "replace Fake.csv? [y]es, [n]o, [A]ll, [N]one, [r]ename: n\n",
            "Archive:  /content/572515_1037534_compressed_True.csv.zip?raw=true\n",
            "replace True.csv? [y]es, [n]o, [A]ll, [N]one, [r]ename: n\n"
          ],
          "name": "stdout"
        }
      ]
    },
    {
      "cell_type": "code",
      "metadata": {
        "id": "ur4xlJNP7Yzs",
        "colab_type": "code",
        "colab": {
          "base_uri": "https://localhost:8080/",
          "height": 286
        },
        "outputId": "05cc78b8-8e08-4bce-f440-294a18ed218a"
      },
      "source": [
        "fake = pd.read_csv(\"Fake.csv\")\n",
        "true = pd.read_csv(\"True.csv\")\n",
        "print(fake.head())\n",
        "print(true.head())"
      ],
      "execution_count": 5,
      "outputs": [
        {
          "output_type": "stream",
          "text": [
            "                                               title  ...               date\n",
            "0   Donald Trump Sends Out Embarrassing New Year’...  ...  December 31, 2017\n",
            "1   Drunk Bragging Trump Staffer Started Russian ...  ...  December 31, 2017\n",
            "2   Sheriff David Clarke Becomes An Internet Joke...  ...  December 30, 2017\n",
            "3   Trump Is So Obsessed He Even Has Obama’s Name...  ...  December 29, 2017\n",
            "4   Pope Francis Just Called Out Donald Trump Dur...  ...  December 25, 2017\n",
            "\n",
            "[5 rows x 4 columns]\n",
            "                                               title  ...                date\n",
            "0  As U.S. budget fight looms, Republicans flip t...  ...  December 31, 2017 \n",
            "1  U.S. military to accept transgender recruits o...  ...  December 29, 2017 \n",
            "2  Senior U.S. Republican senator: 'Let Mr. Muell...  ...  December 31, 2017 \n",
            "3  FBI Russia probe helped by Australian diplomat...  ...  December 30, 2017 \n",
            "4  Trump wants Postal Service to charge 'much mor...  ...  December 29, 2017 \n",
            "\n",
            "[5 rows x 4 columns]\n"
          ],
          "name": "stdout"
        }
      ]
    },
    {
      "cell_type": "markdown",
      "metadata": {
        "id": "F9a37S0TgTP5",
        "colab_type": "text"
      },
      "source": [
        "# Add code to display one single news"
      ]
    },
    {
      "cell_type": "code",
      "metadata": {
        "id": "vQejI26yU03N",
        "colab_type": "code",
        "colab": {
          "base_uri": "https://localhost:8080/",
          "height": 50
        },
        "outputId": "c0d82e3a-b227-44ca-9098-9b6e2a577dbd"
      },
      "source": [
        "# showing an example of headline of fake news which is from title column\n",
        "print(\"Fake news headline: \"+fake.iloc[0,0])\n",
        "\n",
        "# showing an example of headline of true news which is from title column\n",
        "print(\"True news headline: \"+true.iloc[0,0])\n"
      ],
      "execution_count": 6,
      "outputs": [
        {
          "output_type": "stream",
          "text": [
            "Fake news headline:  Donald Trump Sends Out Embarrassing New Year’s Eve Message; This is Disturbing\n",
            "True news headline: As U.S. budget fight looms, Republicans flip their fiscal script\n"
          ],
          "name": "stdout"
        }
      ]
    },
    {
      "cell_type": "code",
      "metadata": {
        "id": "dFa93d3R74Ta",
        "colab_type": "code",
        "colab": {
          "base_uri": "https://localhost:8080/",
          "height": 50
        },
        "outputId": "d7315b98-2263-4e37-f8e2-8c1f322e1f46"
      },
      "source": [
        "print(fake.shape)\n",
        "print(true.shape)"
      ],
      "execution_count": 7,
      "outputs": [
        {
          "output_type": "stream",
          "text": [
            "(23481, 4)\n",
            "(21417, 4)\n"
          ],
          "name": "stdout"
        }
      ]
    },
    {
      "cell_type": "markdown",
      "metadata": {
        "id": "F3NOGswgUZY2",
        "colab_type": "text"
      },
      "source": [
        "As you can  see above that we have 23481 records of fake news while 21417 of true news and we will have to combine these dataframes before building a model on them. So the combined dataframe will have a huge number of records, so huge that some classifiers will under perform. Hence we are shrinking the data and will train our classifiers on half the data."
      ]
    },
    {
      "cell_type": "code",
      "metadata": {
        "id": "voRdqnIr9QMU",
        "colab_type": "code",
        "colab": {
          "base_uri": "https://localhost:8080/",
          "height": 286
        },
        "outputId": "d4d07912-7bc3-4022-8791-24b13ffe698e"
      },
      "source": [
        "# shrinking data to train smoothly\n",
        "fake = fake[:11740]\n",
        "true = true[:10708]\n",
        "\n",
        "print(fake.head())\n",
        "print(true.head())"
      ],
      "execution_count": 8,
      "outputs": [
        {
          "output_type": "stream",
          "text": [
            "                                               title  ...               date\n",
            "0   Donald Trump Sends Out Embarrassing New Year’...  ...  December 31, 2017\n",
            "1   Drunk Bragging Trump Staffer Started Russian ...  ...  December 31, 2017\n",
            "2   Sheriff David Clarke Becomes An Internet Joke...  ...  December 30, 2017\n",
            "3   Trump Is So Obsessed He Even Has Obama’s Name...  ...  December 29, 2017\n",
            "4   Pope Francis Just Called Out Donald Trump Dur...  ...  December 25, 2017\n",
            "\n",
            "[5 rows x 4 columns]\n",
            "                                               title  ...                date\n",
            "0  As U.S. budget fight looms, Republicans flip t...  ...  December 31, 2017 \n",
            "1  U.S. military to accept transgender recruits o...  ...  December 29, 2017 \n",
            "2  Senior U.S. Republican senator: 'Let Mr. Muell...  ...  December 31, 2017 \n",
            "3  FBI Russia probe helped by Australian diplomat...  ...  December 30, 2017 \n",
            "4  Trump wants Postal Service to charge 'much mor...  ...  December 29, 2017 \n",
            "\n",
            "[5 rows x 4 columns]\n"
          ],
          "name": "stdout"
        }
      ]
    },
    {
      "cell_type": "code",
      "metadata": {
        "id": "NFZ8bFEIcKce",
        "colab_type": "code",
        "colab": {
          "base_uri": "https://localhost:8080/",
          "height": 185
        },
        "outputId": "46daafd7-57da-4c71-dab9-a39ad9a5a763"
      },
      "source": [
        "# The last data item after shrink\n",
        "print(fake.iloc[-1])\n",
        "print(true.iloc[-1])"
      ],
      "execution_count": 9,
      "outputs": [
        {
          "output_type": "stream",
          "text": [
            "title      LOVIN’ IT! ARIZONA DUNKIN’ DONUTS Stirs It Up ...\n",
            "text                                                        \n",
            "subject                                             politics\n",
            "date                                             Feb 4, 2017\n",
            "Name: 11739, dtype: object\n",
            "title      Senators say Republican consensus is no vote o...\n",
            "text       WASHINGTON (Reuters) - Key senators said on Tu...\n",
            "subject                                         politicsNews\n",
            "date                                      February 23, 2016 \n",
            "Name: 10707, dtype: object\n"
          ],
          "name": "stdout"
        }
      ]
    },
    {
      "cell_type": "markdown",
      "metadata": {
        "id": "ACsFPgNP-WcZ",
        "colab_type": "text"
      },
      "source": [
        "**3. Preprocess the Data**"
      ]
    },
    {
      "cell_type": "code",
      "metadata": {
        "id": "wPbz1Gt77-bq",
        "colab_type": "code",
        "colab": {}
      },
      "source": [
        "# Entering 1 for fake and 0 for true in fake_news \n",
        "# column for both the dataframes\n",
        "fake_news = []\n",
        "for row in range(len(fake)):\n",
        "  fake_news.append(\"fake\")\n",
        "fake[\"is_fake\"] = fake_news\n",
        "\n",
        "fake_news = []\n",
        "for row in range(len(true)):\n",
        "  fake_news.append(\"true\")\n",
        "true[\"is_fake\"] = fake_news"
      ],
      "execution_count": 10,
      "outputs": []
    },
    {
      "cell_type": "code",
      "metadata": {
        "id": "9TbY26NK9LoK",
        "colab_type": "code",
        "colab": {
          "base_uri": "https://localhost:8080/",
          "height": 286
        },
        "outputId": "cfe7125e-c752-443d-a252-7cb6b1c502fd"
      },
      "source": [
        "print(fake.head())\n",
        "print(true.head())"
      ],
      "execution_count": 11,
      "outputs": [
        {
          "output_type": "stream",
          "text": [
            "                                               title  ... is_fake\n",
            "0   Donald Trump Sends Out Embarrassing New Year’...  ...    fake\n",
            "1   Drunk Bragging Trump Staffer Started Russian ...  ...    fake\n",
            "2   Sheriff David Clarke Becomes An Internet Joke...  ...    fake\n",
            "3   Trump Is So Obsessed He Even Has Obama’s Name...  ...    fake\n",
            "4   Pope Francis Just Called Out Donald Trump Dur...  ...    fake\n",
            "\n",
            "[5 rows x 5 columns]\n",
            "                                               title  ... is_fake\n",
            "0  As U.S. budget fight looms, Republicans flip t...  ...    true\n",
            "1  U.S. military to accept transgender recruits o...  ...    true\n",
            "2  Senior U.S. Republican senator: 'Let Mr. Muell...  ...    true\n",
            "3  FBI Russia probe helped by Australian diplomat...  ...    true\n",
            "4  Trump wants Postal Service to charge 'much mor...  ...    true\n",
            "\n",
            "[5 rows x 5 columns]\n"
          ],
          "name": "stdout"
        }
      ]
    },
    {
      "cell_type": "code",
      "metadata": {
        "id": "C4h_cr2d9SgL",
        "colab_type": "code",
        "colab": {
          "base_uri": "https://localhost:8080/",
          "height": 402
        },
        "outputId": "3b3e5ea7-8d42-4252-8e42-07faf3023262"
      },
      "source": [
        "# We are using merge function to combine both the datafames. \n",
        "# Keyword \"outer\" is used to include all the columns during merge. \n",
        "news = pd.merge(fake,true, how = \"outer\")\n",
        "news"
      ],
      "execution_count": 12,
      "outputs": [
        {
          "output_type": "execute_result",
          "data": {
            "text/html": [
              "<div>\n",
              "<style scoped>\n",
              "    .dataframe tbody tr th:only-of-type {\n",
              "        vertical-align: middle;\n",
              "    }\n",
              "\n",
              "    .dataframe tbody tr th {\n",
              "        vertical-align: top;\n",
              "    }\n",
              "\n",
              "    .dataframe thead th {\n",
              "        text-align: right;\n",
              "    }\n",
              "</style>\n",
              "<table border=\"1\" class=\"dataframe\">\n",
              "  <thead>\n",
              "    <tr style=\"text-align: right;\">\n",
              "      <th></th>\n",
              "      <th>title</th>\n",
              "      <th>text</th>\n",
              "      <th>subject</th>\n",
              "      <th>date</th>\n",
              "      <th>is_fake</th>\n",
              "    </tr>\n",
              "  </thead>\n",
              "  <tbody>\n",
              "    <tr>\n",
              "      <th>0</th>\n",
              "      <td>Donald Trump Sends Out Embarrassing New Year’...</td>\n",
              "      <td>Donald Trump just couldn t wish all Americans ...</td>\n",
              "      <td>News</td>\n",
              "      <td>December 31, 2017</td>\n",
              "      <td>fake</td>\n",
              "    </tr>\n",
              "    <tr>\n",
              "      <th>1</th>\n",
              "      <td>Drunk Bragging Trump Staffer Started Russian ...</td>\n",
              "      <td>House Intelligence Committee Chairman Devin Nu...</td>\n",
              "      <td>News</td>\n",
              "      <td>December 31, 2017</td>\n",
              "      <td>fake</td>\n",
              "    </tr>\n",
              "    <tr>\n",
              "      <th>2</th>\n",
              "      <td>Sheriff David Clarke Becomes An Internet Joke...</td>\n",
              "      <td>On Friday, it was revealed that former Milwauk...</td>\n",
              "      <td>News</td>\n",
              "      <td>December 30, 2017</td>\n",
              "      <td>fake</td>\n",
              "    </tr>\n",
              "    <tr>\n",
              "      <th>3</th>\n",
              "      <td>Trump Is So Obsessed He Even Has Obama’s Name...</td>\n",
              "      <td>On Christmas day, Donald Trump announced that ...</td>\n",
              "      <td>News</td>\n",
              "      <td>December 29, 2017</td>\n",
              "      <td>fake</td>\n",
              "    </tr>\n",
              "    <tr>\n",
              "      <th>4</th>\n",
              "      <td>Pope Francis Just Called Out Donald Trump Dur...</td>\n",
              "      <td>Pope Francis used his annual Christmas Day mes...</td>\n",
              "      <td>News</td>\n",
              "      <td>December 25, 2017</td>\n",
              "      <td>fake</td>\n",
              "    </tr>\n",
              "    <tr>\n",
              "      <th>...</th>\n",
              "      <td>...</td>\n",
              "      <td>...</td>\n",
              "      <td>...</td>\n",
              "      <td>...</td>\n",
              "      <td>...</td>\n",
              "    </tr>\n",
              "    <tr>\n",
              "      <th>22443</th>\n",
              "      <td>Senators push protections for opioid-dependent...</td>\n",
              "      <td>WASHINGTON (Reuters) - Key senators said on Tu...</td>\n",
              "      <td>politicsNews</td>\n",
              "      <td>February 23, 2016</td>\n",
              "      <td>true</td>\n",
              "    </tr>\n",
              "    <tr>\n",
              "      <th>22444</th>\n",
              "      <td>Judiciary committee senators won't consider Ob...</td>\n",
              "      <td>WASHINGTON (Reuters) - Republicans on the U.S....</td>\n",
              "      <td>politicsNews</td>\n",
              "      <td>February 23, 2016</td>\n",
              "      <td>true</td>\n",
              "    </tr>\n",
              "    <tr>\n",
              "      <th>22445</th>\n",
              "      <td>N.C. city's vote to expand transgender rights ...</td>\n",
              "      <td>(Reuters) - A top North Carolina lawmaker vowe...</td>\n",
              "      <td>politicsNews</td>\n",
              "      <td>February 23, 2016</td>\n",
              "      <td>true</td>\n",
              "    </tr>\n",
              "    <tr>\n",
              "      <th>22446</th>\n",
              "      <td>Italy summons U.S. ambassador after reports U....</td>\n",
              "      <td>ROME (Reuters) - Italy’s foreign ministry summ...</td>\n",
              "      <td>politicsNews</td>\n",
              "      <td>February 23, 2016</td>\n",
              "      <td>true</td>\n",
              "    </tr>\n",
              "    <tr>\n",
              "      <th>22447</th>\n",
              "      <td>Senators say Republican consensus is no vote o...</td>\n",
              "      <td>WASHINGTON (Reuters) - Key senators said on Tu...</td>\n",
              "      <td>politicsNews</td>\n",
              "      <td>February 23, 2016</td>\n",
              "      <td>true</td>\n",
              "    </tr>\n",
              "  </tbody>\n",
              "</table>\n",
              "<p>22448 rows × 5 columns</p>\n",
              "</div>"
            ],
            "text/plain": [
              "                                                   title  ... is_fake\n",
              "0       Donald Trump Sends Out Embarrassing New Year’...  ...    fake\n",
              "1       Drunk Bragging Trump Staffer Started Russian ...  ...    fake\n",
              "2       Sheriff David Clarke Becomes An Internet Joke...  ...    fake\n",
              "3       Trump Is So Obsessed He Even Has Obama’s Name...  ...    fake\n",
              "4       Pope Francis Just Called Out Donald Trump Dur...  ...    fake\n",
              "...                                                  ...  ...     ...\n",
              "22443  Senators push protections for opioid-dependent...  ...    true\n",
              "22444  Judiciary committee senators won't consider Ob...  ...    true\n",
              "22445  N.C. city's vote to expand transgender rights ...  ...    true\n",
              "22446  Italy summons U.S. ambassador after reports U....  ...    true\n",
              "22447  Senators say Republican consensus is no vote o...  ...    true\n",
              "\n",
              "[22448 rows x 5 columns]"
            ]
          },
          "metadata": {
            "tags": []
          },
          "execution_count": 12
        }
      ]
    },
    {
      "cell_type": "code",
      "metadata": {
        "id": "1fUiKD09RXau",
        "colab_type": "code",
        "colab": {
          "base_uri": "https://localhost:8080/",
          "height": 330
        },
        "outputId": "3dc1527a-049a-494b-f961-385e562ca017"
      },
      "source": [
        "# check class distribution\n",
        "classes = news[\"is_fake\"]\n",
        "print(classes.value_counts())\n",
        "classes.hist()\n",
        "plt.xlabel(\"Classes in is_fake\")\n",
        "plt.ylabel(\"Number of records\")\n",
        "plt.show()"
      ],
      "execution_count": 13,
      "outputs": [
        {
          "output_type": "stream",
          "text": [
            "fake    11740\n",
            "true    10708\n",
            "Name: is_fake, dtype: int64\n"
          ],
          "name": "stdout"
        },
        {
          "output_type": "display_data",
          "data": {
            "image/png": "[encoded data removed]",
            "text/plain": [
              "<Figure size 432x288 with 1 Axes>"
            ]
          },
          "metadata": {
            "tags": [],
            "needs_background": "light"
          }
        }
      ]
    },
    {
      "cell_type": "code",
      "metadata": {
        "id": "w3PORSXQQu5h",
        "colab_type": "code",
        "colab": {
          "base_uri": "https://localhost:8080/",
          "height": 34
        },
        "outputId": "95e75e83-f669-49ba-ddce-0578809f8717"
      },
      "source": [
        "# convert class labels to binary values, 0 = fake and 1 = true\n",
        "encoder = LabelEncoder()\n",
        "is_fake = encoder.fit_transform(classes)\n",
        "\n",
        "print(is_fake[:10])"
      ],
      "execution_count": 14,
      "outputs": [
        {
          "output_type": "stream",
          "text": [
            "[0 0 0 0 0 0 0 0 0 0]\n"
          ],
          "name": "stdout"
        }
      ]
    },
    {
      "cell_type": "code",
      "metadata": {
        "id": "JXnzT2zl8Oyf",
        "colab_type": "code",
        "colab": {
          "base_uri": "https://localhost:8080/",
          "height": 202
        },
        "outputId": "e3c3f46d-b860-4478-a24c-cdce7544ae73"
      },
      "source": [
        "# store the headlines of every news and print first 10 headlines \n",
        "headlines = news[\"title\"]\n",
        "print(headlines[:10])"
      ],
      "execution_count": 15,
      "outputs": [
        {
          "output_type": "stream",
          "text": [
            "0     Donald Trump Sends Out Embarrassing New Year’...\n",
            "1     Drunk Bragging Trump Staffer Started Russian ...\n",
            "2     Sheriff David Clarke Becomes An Internet Joke...\n",
            "3     Trump Is So Obsessed He Even Has Obama’s Name...\n",
            "4     Pope Francis Just Called Out Donald Trump Dur...\n",
            "5     Racist Alabama Cops Brutalize Black Boy While...\n",
            "6     Fresh Off The Golf Course, Trump Lashes Out A...\n",
            "7     Trump Said Some INSANELY Racist Stuff Inside ...\n",
            "8     Former CIA Director Slams Trump Over UN Bully...\n",
            "9     WATCH: Brand-New Pro-Trump Ad Features So Muc...\n",
            "Name: title, dtype: object\n"
          ],
          "name": "stdout"
        }
      ]
    },
    {
      "cell_type": "code",
      "metadata": {
        "id": "EDa7ciuGLEaS",
        "colab_type": "code",
        "colab": {}
      },
      "source": [
        "# Remove punctuation. We are using regular expression to remove \n",
        "# punctuation from the selected string. The line below takes every\n",
        "# headline from headlines and converts it into a string. The quoted\n",
        "# '[^\\w\\d\\s]' is an RE used to track any punctuation and then we \n",
        "# replace it with an empty space.\n",
        "headlines = headlines.str.replace(r'[^\\w\\d\\s]', ' ')\n"
      ],
      "execution_count": 16,
      "outputs": []
    },
    {
      "cell_type": "code",
      "metadata": {
        "id": "OIBmQ8ip_qYP",
        "colab_type": "code",
        "colab": {
          "base_uri": "https://localhost:8080/",
          "height": 202
        },
        "outputId": "cf99211a-ed72-4924-d8a0-7139dc349d95"
      },
      "source": [
        "#change words to lowercase\n",
        "headlines = headlines.str.lower() \n",
        "print(headlines[:10])"
      ],
      "execution_count": 17,
      "outputs": [
        {
          "output_type": "stream",
          "text": [
            "0     donald trump sends out embarrassing new year ...\n",
            "1     drunk bragging trump staffer started russian ...\n",
            "2     sheriff david clarke becomes an internet joke...\n",
            "3     trump is so obsessed he even has obama s name...\n",
            "4     pope francis just called out donald trump dur...\n",
            "5     racist alabama cops brutalize black boy while...\n",
            "6     fresh off the golf course  trump lashes out a...\n",
            "7     trump said some insanely racist stuff inside ...\n",
            "8     former cia director slams trump over un bully...\n",
            "9     watch  brand new pro trump ad features so muc...\n",
            "Name: title, dtype: object\n"
          ],
          "name": "stdout"
        }
      ]
    },
    {
      "cell_type": "markdown",
      "metadata": {
        "id": "sS8V9w8nD7U6",
        "colab_type": "text"
      },
      "source": [
        "Stopwords are the words in any language which does not add much meaning to a sentence. They can safely be ignored without sacrificing the meaning of the sentence. For some search engines, these are some of the most common, short function words, such as the, is, at, which, and on."
      ]
    },
    {
      "cell_type": "code",
      "metadata": {
        "id": "7i-GmXBDAJpH",
        "colab_type": "code",
        "colab": {
          "base_uri": "https://localhost:8080/",
          "height": 202
        },
        "outputId": "e6f41219-27dd-4d69-d731-b1ed6e0042f9"
      },
      "source": [
        "#Removing stopwords from news headlines\n",
        "\n",
        "stop_words = set(stopwords.words(\"english\")) \n",
        "\n",
        "headlines = headlines.apply(lambda x : \" \".join(word for word in x.split() if word not in stop_words))\n",
        "\n",
        "print(headlines[:10])"
      ],
      "execution_count": 18,
      "outputs": [
        {
          "output_type": "stream",
          "text": [
            "0    donald trump sends embarrassing new year eve m...\n",
            "1    drunk bragging trump staffer started russian c...\n",
            "2    sheriff david clarke becomes internet joke thr...\n",
            "3    trump obsessed even obama name coded website i...\n",
            "4    pope francis called donald trump christmas speech\n",
            "5    racist alabama cops brutalize black boy handcu...\n",
            "6    fresh golf course trump lashes fbi deputy dire...\n",
            "7    trump said insanely racist stuff inside oval o...\n",
            "8    former cia director slams trump un bullying op...\n",
            "9    watch brand new pro trump ad features much kis...\n",
            "Name: title, dtype: object\n"
          ],
          "name": "stdout"
        }
      ]
    },
    {
      "cell_type": "markdown",
      "metadata": {
        "id": "SPL2m5auEXcf",
        "colab_type": "text"
      },
      "source": [
        "Removing stopwords can potentially help improve the performance as there are fewer and only meaningful tokens left. Thus, it could increase classification accuracy. Even search engines like Google remove stopwords for fast and relevant retrieval of data from the database."
      ]
    },
    {
      "cell_type": "markdown",
      "metadata": {
        "id": "o3UcI8FhFdCu",
        "colab_type": "text"
      },
      "source": [
        "In English grammar and morphology, a stem is the form of a word before any inflectional affixes are added. In English, most stems also qualify as words. The term base is commonly used by linguists to refer to any stem (or root) to which an affix is attached."
      ]
    },
    {
      "cell_type": "code",
      "metadata": {
        "id": "mnufnWNKCMXC",
        "colab_type": "code",
        "colab": {
          "base_uri": "https://localhost:8080/",
          "height": 202
        },
        "outputId": "16439b15-5bb7-4789-de11-b3516f25e012"
      },
      "source": [
        "# Remove affixes to give stems using a Porter stemmer\n",
        "ps = nltk.PorterStemmer()\n",
        "\n",
        "headlines = headlines.apply(lambda x: ' '.join(ps.stem(word) \n",
        "                            for word in x.split()))\n",
        "\n",
        "print(headlines[:10])"
      ],
      "execution_count": 19,
      "outputs": [
        {
          "output_type": "stream",
          "text": [
            "0    donald trump send embarrass new year eve messa...\n",
            "1    drunk brag trump staffer start russian collus ...\n",
            "2    sheriff david clark becom internet joke threat...\n",
            "3        trump obsess even obama name code websit imag\n",
            "4        pope franci call donald trump christma speech\n",
            "5    racist alabama cop brutal black boy handcuff g...\n",
            "6    fresh golf cours trump lash fbi deputi directo...\n",
            "7    trump said insan racist stuff insid oval offic...\n",
            "8    former cia director slam trump un bulli openli...\n",
            "9    watch brand new pro trump ad featur much kiss ...\n",
            "Name: title, dtype: object\n"
          ],
          "name": "stdout"
        }
      ]
    },
    {
      "cell_type": "markdown",
      "metadata": {
        "id": "yMzjLzeWFvPB",
        "colab_type": "text"
      },
      "source": [
        "By using PorterStemmer we have successfully removed all the affixes and only root words remain. For instance \"sends\" in the first headline becomes \"send\" and \"embarrassing\" becomes embarrass.    "
      ]
    },
    {
      "cell_type": "markdown",
      "metadata": {
        "id": "fQa56hY6GeOr",
        "colab_type": "text"
      },
      "source": [
        "**4. Generating Features**"
      ]
    },
    {
      "cell_type": "code",
      "metadata": {
        "id": "0k1OKv0TGV5i",
        "colab_type": "code",
        "colab": {
          "base_uri": "https://localhost:8080/",
          "height": 34
        },
        "outputId": "3b1da485-cd52-47c2-ab62-9b452ad6d764"
      },
      "source": [
        "# creating a collection of all the words\n",
        "\n",
        "all_words = []\n",
        "\n",
        "for line in headlines:\n",
        "    words = word_tokenize(line)\n",
        "    for word in words:\n",
        "        all_words.append(word)\n",
        "\n",
        "print(len(all_words))        \n",
        "\n",
        "all_words = nltk.FreqDist(all_words)"
      ],
      "execution_count": 20,
      "outputs": [
        {
          "output_type": "stream",
          "text": [
            "206497\n"
          ],
          "name": "stdout"
        }
      ]
    },
    {
      "cell_type": "code",
      "metadata": {
        "id": "QWr9ZhRkJZbW",
        "colab_type": "code",
        "colab": {
          "base_uri": "https://localhost:8080/",
          "height": 70
        },
        "outputId": "6830ce07-d5b7-40e8-a858-9ac2699f10cd"
      },
      "source": [
        "# print the total number of words and the 15 most common words\n",
        "print('Number of words: {}'.format(len(all_words)))\n",
        "print('Most common words: {}'.format(all_words.most_common(15)))"
      ],
      "execution_count": 21,
      "outputs": [
        {
          "output_type": "stream",
          "text": [
            "Number of words: 10174\n",
            "Most common words: [('trump', 11274), ('video', 4022), ('u', 3198), ('say', 1980), ('republican', 1602), ('hous', 1584), ('senat', 1416), ('obama', 1401), ('watch', 1279), ('white', 1130), ('presid', 981), ('clinton', 978), ('tweet', 970), ('bill', 919), ('democrat', 886)]\n"
          ],
          "name": "stdout"
        }
      ]
    },
    {
      "cell_type": "markdown",
      "metadata": {
        "id": "_MJtHN1TJrjr",
        "colab_type": "text"
      },
      "source": [
        "So we have approx. 206500 words in total made from 10,174 unique words and nltk.FreqDist() function gives us the frequency of occurence of each word. The most_common function when applied to the result of FreqDist() gives a list of tuples containing words with highest frequency and their corresponding frequency in descending order."
      ]
    },
    {
      "cell_type": "code",
      "metadata": {
        "id": "_HCT5JARKDhY",
        "colab_type": "code",
        "colab": {}
      },
      "source": [
        "# use the 2300 most common words as features\n",
        "word_features = list(all_words.keys())[:2300]"
      ],
      "execution_count": 22,
      "outputs": []
    },
    {
      "cell_type": "code",
      "metadata": {
        "id": "LeGLFLArMjmj",
        "colab_type": "code",
        "colab": {
          "base_uri": "https://localhost:8080/",
          "height": 168
        },
        "outputId": "5ceebc55-375a-49e1-e6b7-dc2af407e309"
      },
      "source": [
        "# The find_features function will determine which of \n",
        "# the 2300 word features are contained in the headlines\n",
        "def find_features(headline):\n",
        "    words = word_tokenize(headline)\n",
        "    features = {}\n",
        "    for word in word_features:\n",
        "        features[word] = (word in words)\n",
        "\n",
        "    return features\n",
        "\n",
        "# Let's see an example!\n",
        "features = find_features(headlines[0])\n",
        "for key, value in features.items():\n",
        "    if value == True:\n",
        "        print(key)"
      ],
      "execution_count": 23,
      "outputs": [
        {
          "output_type": "stream",
          "text": [
            "donald\n",
            "trump\n",
            "send\n",
            "embarrass\n",
            "new\n",
            "year\n",
            "eve\n",
            "messag\n",
            "disturb\n"
          ],
          "name": "stdout"
        }
      ]
    },
    {
      "cell_type": "markdown",
      "metadata": {
        "id": "GgNtOX7YhZYw",
        "colab_type": "text"
      },
      "source": [
        "Note: The code below is delicate as we are using shuffle function and generating featuresset. If you run into any error then do not re-run the cell.\n",
        "Instead restart the kernel and run all the cells again."
      ]
    },
    {
      "cell_type": "code",
      "metadata": {
        "id": "jcysXN2vNs6r",
        "colab_type": "code",
        "colab": {}
      },
      "source": [
        "# Now lets do it for all the headlines\n",
        "headlines = list(zip(headlines, is_fake))\n",
        "# define a seed for reproducibility\n",
        "seed = 1\n",
        "np.random.seed = seed\n",
        "np.random.shuffle(headlines)\n",
        "\n",
        "# call find_features function for each headline\n",
        "featuresets = [(find_features(headline), category) for (headline, category) in headlines]\n"
      ],
      "execution_count": 24,
      "outputs": []
    },
    {
      "cell_type": "code",
      "metadata": {
        "id": "_jkVWujeSfRT",
        "colab_type": "code",
        "colab": {}
      },
      "source": [
        "# we can split the featuresets into training and testing datasets using model_selection in sklearn\n",
        "# split the data into training and testing datasets\n",
        "\n",
        "training, testing = train_test_split(featuresets, \n",
        "                                     test_size = 0.25, \n",
        "                                     random_state=seed)"
      ],
      "execution_count": 25,
      "outputs": []
    },
    {
      "cell_type": "code",
      "metadata": {
        "id": "7jyoPFOHhQFR",
        "colab_type": "code",
        "colab": {
          "base_uri": "https://localhost:8080/",
          "height": 50
        },
        "outputId": "e0d96119-dd76-4d42-a9cb-882b4f4f94d4"
      },
      "source": [
        "print(len(training))\n",
        "print(len(testing))"
      ],
      "execution_count": 26,
      "outputs": [
        {
          "output_type": "stream",
          "text": [
            "16836\n",
            "5612\n"
          ],
          "name": "stdout"
        }
      ]
    },
    {
      "cell_type": "markdown",
      "metadata": {
        "id": "OZ-HeZMCiTq1",
        "colab_type": "text"
      },
      "source": [
        "**5. Scikit-Learn Classifiers with NLTK**\n",
        "\n",
        "> \n",
        "We'll need to import each algorithm we plan on using from sklearn. We also need to import some performance metrics, such as accuracy_score and classification_report.\n",
        "\n"
      ]
    },
    {
      "cell_type": "code",
      "metadata": {
        "id": "Mx2gRqmciO_v",
        "colab_type": "code",
        "colab": {
          "base_uri": "https://localhost:8080/",
          "height": 67
        },
        "outputId": "c1f45b57-8393-451f-dfb4-b940bc4613be"
      },
      "source": [
        "from nltk.classify.scikitlearn import SklearnClassifier\n",
        "from sklearn.linear_model import LogisticRegression\n",
        "from sklearn.neighbors import KNeighborsClassifier\n",
        "from sklearn.tree import DecisionTreeClassifier\n",
        "from sklearn.ensemble import RandomForestClassifier\n",
        "from sklearn.linear_model import SGDClassifier\n",
        "from sklearn.naive_bayes import MultinomialNB\n",
        "from sklearn.svm import SVC\n",
        "from sklearn.metrics import classification_report, accuracy_score, confusion_matrix, max_error\n",
        "\n",
        "nltk_model = SklearnClassifier(LogisticRegression(verbose=True))\n",
        "\n",
        "# train the model on the training data\n",
        "nltk_model.train(training)\n",
        "\n",
        "# and test on the testing dataset!\n",
        "accuracy = nltk.classify.accuracy(nltk_model, testing)*100\n",
        "print(\"Logistic Regression Accuracy: {}\".format(accuracy))"
      ],
      "execution_count": 27,
      "outputs": [
        {
          "output_type": "stream",
          "text": [
            "[Parallel(n_jobs=1)]: Using backend SequentialBackend with 1 concurrent workers.\n",
            "[Parallel(n_jobs=1)]: Done   1 out of   1 | elapsed:    9.9s finished\n"
          ],
          "name": "stderr"
        },
        {
          "output_type": "stream",
          "text": [
            "Logistic Regression Accuracy: 93.3535281539558\n"
          ],
          "name": "stdout"
        }
      ]
    },
    {
      "cell_type": "markdown",
      "metadata": {
        "id": "u7dHYO4XofWz",
        "colab_type": "text"
      },
      "source": [
        "# **Introduction to Classifiers**\n",
        "# KNeighborsClassifier()\n",
        "> The K-neighbors classification in KNeighborsClassifier is the most commonly used technique. The optimal choice of the value K is highly data-dependent: in general a larger K suppresses the effects of noise, but makes the classification boundaries less distinct.\n",
        "\n",
        "# DecisionTreeClassifier()\n",
        "> DecisionTreeClassifier is a class capable of performing multi-class classification on a dataset.DecisionTreeClassifier takes as input two arrays: an array X, sparse or dense, of size [n_samples, n_features] holding the training samples, and an array Y of integer values, size [n_samples], holding the class labels for the training samples.It is capable of both binary classification and multiclass classification.\n",
        "\n",
        "# RandomForestClassifier()\n",
        ">A random forest is a meta estimator that fits a number of decision tree classifiers on various sub-samples of the dataset and use averaging to improve the predictive accuracy and control over-fitting.\n",
        "\n",
        "# SGDClassifier()\n",
        ">This estimator implements regularized linear models with stochastic gradient descent (SGD) learning: the gradient of the loss is estimated each sample at a time and the model is updated along the way with a decreasing strength schedule (aka learning rate). SGD allows minibatch (online/out-of-core) learning via the partial_fit method. For best results using the default learning rate schedule, the data should have zero mean and unit variance.This implementation works with data represented as dense or sparse arrays of floating point values for the features. The model it fits can be controlled with the loss parameter; by default, it fits a linear support vector machine (SVM).\n",
        "\n",
        "# MultinomialNB()\n",
        ">MultinomialNB implements the naive Bayes algorithm for multinomially distributed data, and is one of the two classic naive Bayes variants used in text classification (where the data are typically represented as word vector counts, although tf-idf vectors are also known to work well in practice).The multinomial Naive Bayes classifier is suitable for classification with discrete features (e.g., word counts for text classification). The multinomial distribution normally requires integer feature counts. However, in practice, fractional counts such as tf-idf may also work.\n",
        "\n",
        "# SVC()\n",
        ">The implementation is based on libsvm. The fit time scales at least quadratically with the number of samples and may be impractical beyond tens of thousands of samples.The multiclass support is handled according to a one-vs-one scheme. \n",
        "\n",
        "\n",
        "\n",
        "\n",
        "\n",
        "\n",
        "\n",
        "\n",
        "\n",
        "\n"
      ]
    },
    {
      "cell_type": "code",
      "metadata": {
        "id": "HHps5TxMMatY",
        "colab_type": "code",
        "colab": {
          "base_uri": "https://localhost:8080/",
          "height": 118
        },
        "outputId": "01543179-dc10-4701-a8a6-c2bb25737c2b"
      },
      "source": [
        "# Define models to train\n",
        "names = [\"K Nearest Neighbors\", \n",
        "         \"Decision Tree\", \n",
        "         \"Random Forest\",  \n",
        "         \"SGD Classifier\",\n",
        "         \"Naive Bayes\", \n",
        "         \"SVM Linear\"]\n",
        "\n",
        "classifiers = [\n",
        "    KNeighborsClassifier(),\n",
        "    DecisionTreeClassifier(),\n",
        "    RandomForestClassifier(),\n",
        "    SGDClassifier(max_iter = 100),\n",
        "    MultinomialNB(),\n",
        "    SVC(kernel = 'linear')\n",
        "]\n",
        "\n",
        "models = zip(names, classifiers)\n",
        "\n",
        "for name, model in models:\n",
        "    nltk_model = SklearnClassifier(model)\n",
        "    nltk_model.train(training)\n",
        "    accuracy = nltk.classify.accuracy(nltk_model, testing)*100\n",
        "    print(\"{} Accuracy: {}\".format(name, accuracy))"
      ],
      "execution_count": 28,
      "outputs": [
        {
          "output_type": "stream",
          "text": [
            "K Nearest Neighbors Accuracy: 65.76977904490377\n",
            "Decision Tree Accuracy: 87.45545260156807\n",
            "Random Forest Accuracy: 91.7320028510335\n",
            "SGD Classifier Accuracy: 93.08624376336422\n",
            "Naive Bayes Accuracy: 91.30434782608695\n",
            "SVM Linear Accuracy: 92.89023521026371\n"
          ],
          "name": "stdout"
        }
      ]
    },
    {
      "cell_type": "markdown",
      "metadata": {
        "id": "OCmKQdWkza_A",
        "colab_type": "text"
      },
      "source": [
        "#Purpose of VotingClassifier\n",
        "The idea behind the VotingClassifier is to combine conceptually different machine learning classifiers and use a majority vote or the average predicted probabilities (soft vote) to predict the class labels. Such a classifier can be useful for a set of equally well performing model in order to balance out their individual weaknesses.\n",
        "\n",
        "In majority voting, the predicted class label for a particular sample is the class label that represents the majority (mode) of the class labels predicted by each individual classifier.\n",
        "\n",
        "E.g., if the prediction for a given sample is\n",
        "\n",
        "classifier 1 -> class 1\n",
        "\n",
        "classifier 2 -> class 1\n",
        "\n",
        "classifier 3 -> class 2\n",
        "\n",
        "the VotingClassifier (with voting='hard') would classify the sample as “class 1” based on the majority class label.\n",
        "\n",
        "In the cases of a tie, the VotingClassifier will select the class based on the ascending sort order. E.g., in the following scenario\n",
        "\n",
        "classifier 1 -> class 2\n",
        "\n",
        "classifier 2 -> class 1\n",
        "\n",
        "the class label 1 will be assigned to the sample.\n",
        "\n",
        "The output of the next cell will be the accuracy of our model computed as explained above. "
      ]
    },
    {
      "cell_type": "code",
      "metadata": {
        "id": "YtuViXzoVOYh",
        "colab_type": "code",
        "colab": {
          "base_uri": "https://localhost:8080/",
          "height": 34
        },
        "outputId": "7ba7d26b-40c9-46a9-ffd9-3a299bf8b6f9"
      },
      "source": [
        "# Ensemble methods - Voting classifier\n",
        "from sklearn.ensemble import VotingClassifier\n",
        "\n",
        "names = [\"K Nearest Neighbors\", \n",
        "         \"Decision Tree\", \n",
        "         \"Random Forest\", \n",
        "         \"Logistic Regression\", \n",
        "         \"SGD Classifier\",\n",
        "         \"Naive Bayes\", \n",
        "         \"SVM Linear\"]\n",
        "\n",
        "classifiers = [\n",
        "    KNeighborsClassifier(),\n",
        "    DecisionTreeClassifier(),\n",
        "    RandomForestClassifier(),\n",
        "    LogisticRegression(),\n",
        "    SGDClassifier(max_iter = 100),\n",
        "    MultinomialNB(),\n",
        "    SVC(kernel = 'linear')\n",
        "]\n",
        "\n",
        "models = list(zip(names, classifiers))\n",
        "\n",
        "nltk_ensemble = SklearnClassifier(VotingClassifier(estimators = models, voting = 'hard', n_jobs = -1))\n",
        "nltk_ensemble.train(training)\n",
        "accuracy = nltk.classify.accuracy(nltk_model, testing)*100\n",
        "print(\"Voting Classifier: Accuracy: {}\".format(accuracy))"
      ],
      "execution_count": 29,
      "outputs": [
        {
          "output_type": "stream",
          "text": [
            "Voting Classifier: Accuracy: 92.89023521026371\n"
          ],
          "name": "stdout"
        }
      ]
    },
    {
      "cell_type": "code",
      "metadata": {
        "id": "ECHX4Y-NGggj",
        "colab_type": "code",
        "colab": {}
      },
      "source": [
        "# make class label prediction for testing set\n",
        "headline_features, labels = zip(*testing)\n",
        "\n",
        "prediction = nltk_ensemble.classify_many(headline_features)"
      ],
      "execution_count": 30,
      "outputs": []
    },
    {
      "cell_type": "code",
      "metadata": {
        "id": "sRHQ2eCWQoQ_",
        "colab_type": "code",
        "colab": {
          "base_uri": "https://localhost:8080/",
          "height": 287
        },
        "outputId": "5903d756-1e19-4b44-b18f-b2f8f97cc880"
      },
      "source": [
        "# print a confusion matrix and a classification report\n",
        "print(classification_report(labels, prediction))\n",
        "\n",
        "pd.DataFrame(\n",
        "    confusion_matrix(labels, prediction),\n",
        "    index = [['actual', 'actual'], ['fake', 'true']],\n",
        "    columns = [['predicted', 'predicted'], ['fake', 'true']])"
      ],
      "execution_count": 31,
      "outputs": [
        {
          "output_type": "stream",
          "text": [
            "              precision    recall  f1-score   support\n",
            "\n",
            "           0       0.95      0.92      0.93      2943\n",
            "           1       0.91      0.95      0.93      2669\n",
            "\n",
            "    accuracy                           0.93      5612\n",
            "   macro avg       0.93      0.93      0.93      5612\n",
            "weighted avg       0.93      0.93      0.93      5612\n",
            "\n"
          ],
          "name": "stdout"
        },
        {
          "output_type": "execute_result",
          "data": {
            "text/html": [
              "<div>\n",
              "<style scoped>\n",
              "    .dataframe tbody tr th:only-of-type {\n",
              "        vertical-align: middle;\n",
              "    }\n",
              "\n",
              "    .dataframe tbody tr th {\n",
              "        vertical-align: top;\n",
              "    }\n",
              "\n",
              "    .dataframe thead tr th {\n",
              "        text-align: left;\n",
              "    }\n",
              "</style>\n",
              "<table border=\"1\" class=\"dataframe\">\n",
              "  <thead>\n",
              "    <tr>\n",
              "      <th></th>\n",
              "      <th></th>\n",
              "      <th colspan=\"2\" halign=\"left\">predicted</th>\n",
              "    </tr>\n",
              "    <tr>\n",
              "      <th></th>\n",
              "      <th></th>\n",
              "      <th>fake</th>\n",
              "      <th>true</th>\n",
              "    </tr>\n",
              "  </thead>\n",
              "  <tbody>\n",
              "    <tr>\n",
              "      <th rowspan=\"2\" valign=\"top\">actual</th>\n",
              "      <th>fake</th>\n",
              "      <td>2693</td>\n",
              "      <td>250</td>\n",
              "    </tr>\n",
              "    <tr>\n",
              "      <th>true</th>\n",
              "      <td>127</td>\n",
              "      <td>2542</td>\n",
              "    </tr>\n",
              "  </tbody>\n",
              "</table>\n",
              "</div>"
            ],
            "text/plain": [
              "            predicted      \n",
              "                 fake  true\n",
              "actual fake      2693   250\n",
              "       true       127  2542"
            ]
          },
          "metadata": {
            "tags": []
          },
          "execution_count": 31
        }
      ]
    },
    {
      "cell_type": "markdown",
      "metadata": {
        "id": "gMny_awwx1ba",
        "colab_type": "text"
      },
      "source": [
        "Now that we know that our model is reasonably good in classifying fake news, lets use to classify some real-time news."
      ]
    },
    {
      "cell_type": "code",
      "metadata": {
        "id": "vhYUcnjtgapT",
        "colab_type": "code",
        "colab": {
          "base_uri": "https://localhost:8080/",
          "height": 34
        },
        "outputId": "34d413e5-7e91-45c2-84d5-392d0c9fa3c5"
      },
      "source": [
        "#Testing classifier by classifying real-time news\n",
        "# Remember that 0 means fake and 1 means true\n",
        "print(nltk_ensemble.classify(find_features(\"Alia Bhatt’s Sadak 2 the most disliked trailer on YouTube amid nepotism debate, fans demand justice for Sushant Singh Rajput\"))) "
      ],
      "execution_count": 37,
      "outputs": [
        {
          "output_type": "stream",
          "text": [
            "1\n"
          ],
          "name": "stdout"
        }
      ]
    },
    {
      "cell_type": "markdown",
      "metadata": {
        "id": "vi9MlnCfy4bC",
        "colab_type": "text"
      },
      "source": [
        "The headline was about trailer of Alia bhatt's new movie becoming the most disliked video on youtube for a trailer which is a true news. Our model has correctly predicted this news as true.  "
      ]
    },
    {
      "cell_type": "markdown",
      "metadata": {
        "id": "kN-j802OyWoD",
        "colab_type": "text"
      },
      "source": [
        "Now let's try 2 headlines regarding the same incident. The news of plane crash in Kerala last week became trending and here are two headlines on that incident."
      ]
    },
    {
      "cell_type": "code",
      "metadata": {
        "id": "7h6ZChz-0UC4",
        "colab_type": "code",
        "colab": {
          "base_uri": "https://localhost:8080/",
          "height": 34
        },
        "outputId": "d9ce35a7-3f5e-440b-cb96-377a77e4b205"
      },
      "source": [
        "print(nltk_ensemble.classify(find_features(\"India Air crash survivor recounts final minutes in plane\")))"
      ],
      "execution_count": 38,
      "outputs": [
        {
          "output_type": "stream",
          "text": [
            "0\n"
          ],
          "name": "stdout"
        }
      ]
    },
    {
      "cell_type": "markdown",
      "metadata": {
        "id": "Oecx27DD0cc0",
        "colab_type": "text"
      },
      "source": [
        "The first headline is regarding the experience of a survivor of the crash. This news is classified as fake probably because no one can verify legitness of the incidents happened during the crash. And as we have trained our model on verified headlines it classifies such news as fake.    "
      ]
    },
    {
      "cell_type": "code",
      "metadata": {
        "id": "QQ5HW4KZnVB_",
        "colab_type": "code",
        "colab": {
          "base_uri": "https://localhost:8080/",
          "height": 34
        },
        "outputId": "52dde6df-cb62-4a74-965f-402ffe5a5e86"
      },
      "source": [
        "print(nltk_ensemble.classify(find_features(\"Kerala plane crash: 92 injured passengers discharged from hospitals after 'obtaining complete fitness'\")))"
      ],
      "execution_count": 36,
      "outputs": [
        {
          "output_type": "stream",
          "text": [
            "1\n"
          ],
          "name": "stdout"
        }
      ]
    },
    {
      "cell_type": "markdown",
      "metadata": {
        "id": "s1N-T_Fj1gl5",
        "colab_type": "text"
      },
      "source": [
        "On the other hand the second headline contains facts and figures which are the features found mostly in true news. Hence our model classifies it as a true news. "
      ]
    },
    {
      "cell_type": "markdown",
      "metadata": {
        "id": "Rg2t-snt2MXm",
        "colab_type": "text"
      },
      "source": [
        "Now we will try to classify more than one news at once. I have appended some true and fake news in to a list and let's see how many of them are classified correcty."
      ]
    },
    {
      "cell_type": "code",
      "metadata": {
        "id": "7oUWVczNjVzo",
        "colab_type": "code",
        "colab": {
          "base_uri": "https://localhost:8080/",
          "height": 121
        },
        "outputId": "d6f2d328-9b5c-4b1a-a35b-5541094dc871"
      },
      "source": [
        "# First make a list of news\n",
        "newslist = []\n",
        "newslist.append(\"NASA tweets beautiful pictures of Mars. They may make you gasp in wonder\")\n",
        "newslist.append(\"How visually impaired woman beat the odds to crack UPSC exam. She’s inspiring many including Mohammad Kaif\")\n",
        "newslist.append(\"Russia registers the world's first Covid-19 vaccine, Putin says his daughter was given a shot\")\n",
        "newslist.append(\"2020 is the year to stay alive, and don't think of profit or loss\")\n",
        "newslist.append(\"Democratic presidential candidate Joe Biden and running mate Kamala Harris have attacked 'whining' President Donald Trump as an incompetent leader who has left the US 'in tatters'.\")\n",
        "newslist"
      ],
      "execution_count": 51,
      "outputs": [
        {
          "output_type": "execute_result",
          "data": {
            "text/plain": [
              "['NASA tweets beautiful pictures of Mars. They may make you gasp in wonder',\n",
              " 'How visually impaired woman beat the odds to crack UPSC exam. She’s inspiring many including Mohammad Kaif',\n",
              " \"Russia registers the world's first Covid-19 vaccine, Putin says his daughter was given a shot\",\n",
              " \"2020 is the year to stay alive, and don't think of profit or loss\",\n",
              " \"Democratic presidential candidate Joe Biden and running mate Kamala Harris have attacked 'whining' President Donald Trump as an incompetent leader who has left the US 'in tatters'.\"]"
            ]
          },
          "metadata": {
            "tags": []
          },
          "execution_count": 51
        }
      ]
    },
    {
      "cell_type": "code",
      "metadata": {
        "id": "xuLtcJaI8hyz",
        "colab_type": "code",
        "colab": {
          "base_uri": "https://localhost:8080/",
          "height": 195
        },
        "outputId": "0c25f958-38b9-417d-db34-461fb58f9a22"
      },
      "source": [
        "# Then make a dataframe of single column using the list\n",
        "news_classification = pd.DataFrame(newslist, columns=[\"News\"])\n",
        "news_classification"
      ],
      "execution_count": 52,
      "outputs": [
        {
          "output_type": "execute_result",
          "data": {
            "text/html": [
              "<div>\n",
              "<style scoped>\n",
              "    .dataframe tbody tr th:only-of-type {\n",
              "        vertical-align: middle;\n",
              "    }\n",
              "\n",
              "    .dataframe tbody tr th {\n",
              "        vertical-align: top;\n",
              "    }\n",
              "\n",
              "    .dataframe thead th {\n",
              "        text-align: right;\n",
              "    }\n",
              "</style>\n",
              "<table border=\"1\" class=\"dataframe\">\n",
              "  <thead>\n",
              "    <tr style=\"text-align: right;\">\n",
              "      <th></th>\n",
              "      <th>News</th>\n",
              "    </tr>\n",
              "  </thead>\n",
              "  <tbody>\n",
              "    <tr>\n",
              "      <th>0</th>\n",
              "      <td>NASA tweets beautiful pictures of Mars. They m...</td>\n",
              "    </tr>\n",
              "    <tr>\n",
              "      <th>1</th>\n",
              "      <td>How visually impaired woman beat the odds to c...</td>\n",
              "    </tr>\n",
              "    <tr>\n",
              "      <th>2</th>\n",
              "      <td>Russia registers the world's first Covid-19 va...</td>\n",
              "    </tr>\n",
              "    <tr>\n",
              "      <th>3</th>\n",
              "      <td>2020 is the year to stay alive, and don't thin...</td>\n",
              "    </tr>\n",
              "    <tr>\n",
              "      <th>4</th>\n",
              "      <td>Democratic presidential candidate Joe Biden an...</td>\n",
              "    </tr>\n",
              "  </tbody>\n",
              "</table>\n",
              "</div>"
            ],
            "text/plain": [
              "                                                News\n",
              "0  NASA tweets beautiful pictures of Mars. They m...\n",
              "1  How visually impaired woman beat the odds to c...\n",
              "2  Russia registers the world's first Covid-19 va...\n",
              "3  2020 is the year to stay alive, and don't thin...\n",
              "4  Democratic presidential candidate Joe Biden an..."
            ]
          },
          "metadata": {
            "tags": []
          },
          "execution_count": 52
        }
      ]
    },
    {
      "cell_type": "code",
      "metadata": {
        "id": "4BT_byoP8pay",
        "colab_type": "code",
        "colab": {
          "base_uri": "https://localhost:8080/",
          "height": 34
        },
        "outputId": "9d161583-d333-4b52-cbe4-71bd6587bfbe"
      },
      "source": [
        "# Then making predictions and storing in another list. In is_true column 0 - fake and 1 - true\n",
        "is_true = []\n",
        "for i in newslist:\n",
        "  is_true.append(nltk_ensemble.classify(find_features(i)))\n",
        "is_true"
      ],
      "execution_count": 53,
      "outputs": [
        {
          "output_type": "execute_result",
          "data": {
            "text/plain": [
              "[1, 0, 1, 0, 1]"
            ]
          },
          "metadata": {
            "tags": []
          },
          "execution_count": 53
        }
      ]
    },
    {
      "cell_type": "code",
      "metadata": {
        "id": "G8PzQQfx86dA",
        "colab_type": "code",
        "colab": {
          "base_uri": "https://localhost:8080/",
          "height": 195
        },
        "outputId": "e5ebfdc4-1d69-4cde-bf34-04a1ae1e729e"
      },
      "source": [
        "# Finally appending the prediction to dataframe and printing it altogether\n",
        "news_classification[\"is_true\"] = is_true\n",
        "news_classification"
      ],
      "execution_count": 54,
      "outputs": [
        {
          "output_type": "execute_result",
          "data": {
            "text/html": [
              "<div>\n",
              "<style scoped>\n",
              "    .dataframe tbody tr th:only-of-type {\n",
              "        vertical-align: middle;\n",
              "    }\n",
              "\n",
              "    .dataframe tbody tr th {\n",
              "        vertical-align: top;\n",
              "    }\n",
              "\n",
              "    .dataframe thead th {\n",
              "        text-align: right;\n",
              "    }\n",
              "</style>\n",
              "<table border=\"1\" class=\"dataframe\">\n",
              "  <thead>\n",
              "    <tr style=\"text-align: right;\">\n",
              "      <th></th>\n",
              "      <th>News</th>\n",
              "      <th>is_true</th>\n",
              "    </tr>\n",
              "  </thead>\n",
              "  <tbody>\n",
              "    <tr>\n",
              "      <th>0</th>\n",
              "      <td>NASA tweets beautiful pictures of Mars. They m...</td>\n",
              "      <td>1</td>\n",
              "    </tr>\n",
              "    <tr>\n",
              "      <th>1</th>\n",
              "      <td>How visually impaired woman beat the odds to c...</td>\n",
              "      <td>0</td>\n",
              "    </tr>\n",
              "    <tr>\n",
              "      <th>2</th>\n",
              "      <td>Russia registers the world's first Covid-19 va...</td>\n",
              "      <td>1</td>\n",
              "    </tr>\n",
              "    <tr>\n",
              "      <th>3</th>\n",
              "      <td>2020 is the year to stay alive, and don't thin...</td>\n",
              "      <td>0</td>\n",
              "    </tr>\n",
              "    <tr>\n",
              "      <th>4</th>\n",
              "      <td>Democratic presidential candidate Joe Biden an...</td>\n",
              "      <td>1</td>\n",
              "    </tr>\n",
              "  </tbody>\n",
              "</table>\n",
              "</div>"
            ],
            "text/plain": [
              "                                                News  is_true\n",
              "0  NASA tweets beautiful pictures of Mars. They m...        1\n",
              "1  How visually impaired woman beat the odds to c...        0\n",
              "2  Russia registers the world's first Covid-19 va...        1\n",
              "3  2020 is the year to stay alive, and don't thin...        0\n",
              "4  Democratic presidential candidate Joe Biden an...        1"
            ]
          },
          "metadata": {
            "tags": []
          },
          "execution_count": 54
        }
      ]
    },
    {
      "cell_type": "markdown",
      "metadata": {
        "id": "wXzc5oJKDLqt",
        "colab_type": "text"
      },
      "source": [
        "#The results are here!! \n",
        "I had passed 5 news to the model of which 4 were true and 1 was a fake news. Only the second news about success of visually impaired girl in UPSC exam was incorrectly classified as fake. All the other news are correctly classified and thus the accuracy of the model turns out to be good with real-time news as well. "
      ]
    },
    {
      "cell_type": "markdown",
      "metadata": {
        "id": "GH03bCvalK5-",
        "colab_type": "text"
      },
      "source": [
        ""
      ]
    }
  ]
}