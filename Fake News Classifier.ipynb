{
  "nbformat": 4,
  "nbformat_minor": 0,
  "metadata": {
    "colab": {
      "name": "FakeNews.ipynb",
      "provenance": [],
      "collapsed_sections": [],
      "include_colab_link": true
    },
    "kernelspec": {
      "name": "python3",
      "display_name": "Python 3"
    },
    "accelerator": "GPU"
  },
  "cells": [
    {
      "cell_type": "markdown",
      "metadata": {
        "id": "view-in-github",
        "colab_type": "text"
      },
      "source": [
        "<a href=\"https://colab.research.google.com/github/aadityadamle/FakeNews/blob/master/Fake%20News%20Classifier.ipynb\" target=\"_parent\"><img src=\"https://colab.research.google.com/assets/colab-badge.svg\" alt=\"Open In Colab\"/></a>"
      ]
    },
    {
      "cell_type": "markdown",
      "metadata": {
        "id": "XDkR_W9kepay",
        "colab_type": "text"
      },
      "source": [
        "# Give the datasource reference here"
      ]
    },
    {
      "cell_type": "markdown",
      "metadata": {
        "id": "h7-QjvMBVd67",
        "colab_type": "text"
      },
      "source": [
        "The dataset of this project is taken from Kaggle. This dataset is divided into two files one of which contains fake news (fake.csv) and other contains true new (true.csv). We have to combine the two files before we do any futher processing.\n",
        "(https://www.kaggle.com/clmentbisaillon/fake-and-real-news-dataset)"
      ]
    },
    {
      "cell_type": "markdown",
      "metadata": {
        "id": "SryxutVF9sjq",
        "colab_type": "text"
      },
      "source": [
        "**1. Importing necessary libraries:**"
      ]
    },
    {
      "cell_type": "code",
      "metadata": {
        "id": "bZ2UASgI7fpW",
        "colab_type": "code",
        "colab": {}
      },
      "source": [
        "import pandas as pd\n",
        "import numpy as np\n",
        "import matplotlib.pyplot as plt\n",
        "import sklearn\n",
        "from sklearn.preprocessing import LabelEncoder\n",
        "from sklearn.model_selection import train_test_split\n",
        "import nltk\n",
        "from nltk.corpus import stopwords\n",
        "from nltk.tokenize import word_tokenize\n"
      ],
      "execution_count": 1,
      "outputs": []
    },
    {
      "cell_type": "code",
      "metadata": {
        "id": "znema3O_fHo_",
        "colab_type": "code",
        "colab": {
          "base_uri": "https://localhost:8080/",
          "height": 101
        },
        "outputId": "9a5c473e-48d8-4954-a06e-58fca667f691"
      },
      "source": [
        "#Stopwords are the words in any language which does not add much meaning to a sentence. \n",
        "#They can safely be ignored without sacrificing the meaning of the sentence.\n",
        "# We download stopwords to get a list of such stopwords in english and then remove them from our data.\n",
        "nltk.download(\"stopwords\")\n",
        "\n",
        "# Punkt Sentence Tokenizer. This tokenizer divides a text into a list of sentences,\n",
        "# by using an unsupervised algorithm to build a model for abbreviation words, collocations,\n",
        "# and words that start sentences. Here we use its instance word_tokenize to get a list of all words in our data. \n",
        "nltk.download(\"punkt\")"
      ],
      "execution_count": 2,
      "outputs": [
        {
          "output_type": "stream",
          "text": [
            "[nltk_data] Downloading package stopwords to /root/nltk_data...\n",
            "[nltk_data]   Unzipping corpora/stopwords.zip.\n",
            "[nltk_data] Downloading package punkt to /root/nltk_data...\n",
            "[nltk_data]   Unzipping tokenizers/punkt.zip.\n"
          ],
          "name": "stdout"
        },
        {
          "output_type": "execute_result",
          "data": {
            "text/plain": [
              "True"
            ]
          },
          "metadata": {
            "tags": []
          },
          "execution_count": 2
        }
      ]
    },
    {
      "cell_type": "markdown",
      "metadata": {
        "id": "Dn3GYpJQ-B9T",
        "colab_type": "text"
      },
      "source": [
        "**2. Loading the datasets**"
      ]
    },
    {
      "cell_type": "code",
      "metadata": {
        "id": "A35MnqX86DqK",
        "colab_type": "code",
        "colab": {
          "base_uri": "https://localhost:8080/",
          "height": 709
        },
        "outputId": "43cf0d75-7173-4edf-b423-63cad6d33b74"
      },
      "source": [
        "!wget https://github.com/aadityadamle/FakeNews/blob/master/572515_1037534_compressed_Fake.csv.zip?raw=true\n",
        "!wget https://github.com/aadityadamle/FakeNews/blob/master/572515_1037534_compressed_True.csv.zip?raw=true"
      ],
      "execution_count": 3,
      "outputs": [
        {
          "output_type": "stream",
          "text": [
            "--2020-08-12 11:59:29--  https://github.com/aadityadamle/FakeNews/blob/master/572515_1037534_compressed_Fake.csv.zip?raw=true\n",
            "Resolving github.com (github.com)... 140.82.113.4\n",
            "Connecting to github.com (github.com)|140.82.113.4|:443... connected.\n",
            "HTTP request sent, awaiting response... 302 Found\n",
            "Location: https://github.com/aadityadamle/FakeNews/raw/master/572515_1037534_compressed_Fake.csv.zip [following]\n",
            "--2020-08-12 11:59:29--  https://github.com/aadityadamle/FakeNews/raw/master/572515_1037534_compressed_Fake.csv.zip\n",
            "Reusing existing connection to github.com:443.\n",
            "HTTP request sent, awaiting response... 302 Found\n",
            "Location: https://raw.githubusercontent.com/aadityadamle/FakeNews/master/572515_1037534_compressed_Fake.csv.zip [following]\n",
            "--2020-08-12 11:59:29--  https://raw.githubusercontent.com/aadityadamle/FakeNews/master/572515_1037534_compressed_Fake.csv.zip\n",
            "Resolving raw.githubusercontent.com (raw.githubusercontent.com)... 151.101.0.133, 151.101.64.133, 151.101.128.133, ...\n",
            "Connecting to raw.githubusercontent.com (raw.githubusercontent.com)|151.101.0.133|:443... connected.\n",
            "HTTP request sent, awaiting response... 200 OK\n",
            "Length: 23982555 (23M) [application/zip]\n",
            "Saving to: ‘572515_1037534_compressed_Fake.csv.zip?raw=true’\n",
            "\n",
            "\r          572515_10   0%[                    ]       0  --.-KB/s               \r         572515_103  11%[=>                  ]   2.66M  13.3MB/s               \r        572515_1037  42%[=======>            ]   9.72M  24.3MB/s               \r572515_1037534_comp 100%[===================>]  22.87M  40.7MB/s    in 0.6s    \n",
            "\n",
            "2020-08-12 11:59:30 (40.7 MB/s) - ‘572515_1037534_compressed_Fake.csv.zip?raw=true’ saved [23982555/23982555]\n",
            "\n",
            "--2020-08-12 11:59:32--  https://github.com/aadityadamle/FakeNews/blob/master/572515_1037534_compressed_True.csv.zip?raw=true\n",
            "Resolving github.com (github.com)... 140.82.114.3\n",
            "Connecting to github.com (github.com)|140.82.114.3|:443... connected.\n",
            "HTTP request sent, awaiting response... 302 Found\n",
            "Location: https://github.com/aadityadamle/FakeNews/raw/master/572515_1037534_compressed_True.csv.zip [following]\n",
            "--2020-08-12 11:59:33--  https://github.com/aadityadamle/FakeNews/raw/master/572515_1037534_compressed_True.csv.zip\n",
            "Reusing existing connection to github.com:443.\n",
            "HTTP request sent, awaiting response... 302 Found\n",
            "Location: https://raw.githubusercontent.com/aadityadamle/FakeNews/master/572515_1037534_compressed_True.csv.zip [following]\n",
            "--2020-08-12 11:59:33--  https://raw.githubusercontent.com/aadityadamle/FakeNews/master/572515_1037534_compressed_True.csv.zip\n",
            "Resolving raw.githubusercontent.com (raw.githubusercontent.com)... 151.101.0.133, 151.101.64.133, 151.101.128.133, ...\n",
            "Connecting to raw.githubusercontent.com (raw.githubusercontent.com)|151.101.0.133|:443... connected.\n",
            "HTTP request sent, awaiting response... 200 OK\n",
            "Length: 18993378 (18M) [application/zip]\n",
            "Saving to: ‘572515_1037534_compressed_True.csv.zip?raw=true’\n",
            "\n",
            "572515_1037534_comp 100%[===================>]  18.11M  35.2MB/s    in 0.5s    \n",
            "\n",
            "2020-08-12 11:59:34 (35.2 MB/s) - ‘572515_1037534_compressed_True.csv.zip?raw=true’ saved [18993378/18993378]\n",
            "\n"
          ],
          "name": "stdout"
        }
      ]
    },
    {
      "cell_type": "code",
      "metadata": {
        "id": "q22TPeM56vei",
        "colab_type": "code",
        "colab": {
          "base_uri": "https://localhost:8080/",
          "height": 84
        },
        "outputId": "0ed1b32d-6b16-4f71-93af-4c0b9fd06850"
      },
      "source": [
        "!unzip \"/content/572515_1037534_compressed_Fake.csv.zip?raw=true\"\n",
        "!unzip \"/content/572515_1037534_compressed_True.csv.zip?raw=true\""
      ],
      "execution_count": 4,
      "outputs": [
        {
          "output_type": "stream",
          "text": [
            "Archive:  /content/572515_1037534_compressed_Fake.csv.zip?raw=true\n",
            "  inflating: Fake.csv                \n",
            "Archive:  /content/572515_1037534_compressed_True.csv.zip?raw=true\n",
            "  inflating: True.csv                \n"
          ],
          "name": "stdout"
        }
      ]
    },
    {
      "cell_type": "code",
      "metadata": {
        "id": "ur4xlJNP7Yzs",
        "colab_type": "code",
        "colab": {
          "base_uri": "https://localhost:8080/",
          "height": 286
        },
        "outputId": "2cf6bcfa-da04-4901-cecb-040065093668"
      },
      "source": [
        "fake = pd.read_csv(\"Fake.csv\")\n",
        "true = pd.read_csv(\"True.csv\")\n",
        "print(fake.head())\n",
        "print(true.head())"
      ],
      "execution_count": 5,
      "outputs": [
        {
          "output_type": "stream",
          "text": [
            "                                               title  ...               date\n",
            "0   Donald Trump Sends Out Embarrassing New Year’...  ...  December 31, 2017\n",
            "1   Drunk Bragging Trump Staffer Started Russian ...  ...  December 31, 2017\n",
            "2   Sheriff David Clarke Becomes An Internet Joke...  ...  December 30, 2017\n",
            "3   Trump Is So Obsessed He Even Has Obama’s Name...  ...  December 29, 2017\n",
            "4   Pope Francis Just Called Out Donald Trump Dur...  ...  December 25, 2017\n",
            "\n",
            "[5 rows x 4 columns]\n",
            "                                               title  ...                date\n",
            "0  As U.S. budget fight looms, Republicans flip t...  ...  December 31, 2017 \n",
            "1  U.S. military to accept transgender recruits o...  ...  December 29, 2017 \n",
            "2  Senior U.S. Republican senator: 'Let Mr. Muell...  ...  December 31, 2017 \n",
            "3  FBI Russia probe helped by Australian diplomat...  ...  December 30, 2017 \n",
            "4  Trump wants Postal Service to charge 'much mor...  ...  December 29, 2017 \n",
            "\n",
            "[5 rows x 4 columns]\n"
          ],
          "name": "stdout"
        }
      ]
    },
    {
      "cell_type": "markdown",
      "metadata": {
        "id": "F9a37S0TgTP5",
        "colab_type": "text"
      },
      "source": [
        "# Add code to display one single news"
      ]
    },
    {
      "cell_type": "code",
      "metadata": {
        "id": "vQejI26yU03N",
        "colab_type": "code",
        "colab": {
          "base_uri": "https://localhost:8080/",
          "height": 70
        },
        "outputId": "e6be5090-2d99-4e1a-96fc-e0f359335619"
      },
      "source": [
        "# showing an example of headline of fake news which is from title column\n",
        "print(\"Fake news headline: \"+fake.iloc[0,0])\n",
        "\n",
        "# showing an example of headline of true news which is from title column\n",
        "print(\"True news headline: \"+true.iloc[0,0])\n"
      ],
      "execution_count": 6,
      "outputs": [
        {
          "output_type": "stream",
          "text": [
            "Fake news headline:  Donald Trump Sends Out Embarrassing New Year’s Eve Message; This is Disturbing\n",
            "True news headline: As U.S. budget fight looms, Republicans flip their fiscal script\n"
          ],
          "name": "stdout"
        }
      ]
    },
    {
      "cell_type": "code",
      "metadata": {
        "id": "dFa93d3R74Ta",
        "colab_type": "code",
        "colab": {
          "base_uri": "https://localhost:8080/",
          "height": 50
        },
        "outputId": "4ee9d45b-35d4-4c0c-806d-f1a1b45d6881"
      },
      "source": [
        "print(fake.shape)\n",
        "print(true.shape)"
      ],
      "execution_count": 7,
      "outputs": [
        {
          "output_type": "stream",
          "text": [
            "(23481, 4)\n",
            "(21417, 4)\n"
          ],
          "name": "stdout"
        }
      ]
    },
    {
      "cell_type": "markdown",
      "metadata": {
        "id": "F3NOGswgUZY2",
        "colab_type": "text"
      },
      "source": [
        "As you can  see above that we have 23481 records of fake news while 21417 of true news and we will have to combine these dataframes before building a model on them. So the combined dataframe will have a huge number of records, so huge that some classifiers will under perform. Hence we are shrinking the data and will train our classifiers on half the data."
      ]
    },
    {
      "cell_type": "code",
      "metadata": {
        "id": "voRdqnIr9QMU",
        "colab_type": "code",
        "colab": {
          "base_uri": "https://localhost:8080/",
          "height": 286
        },
        "outputId": "0361383c-8f9e-434b-b2bd-601486b82879"
      },
      "source": [
        "# shrinking data to train smoothly\n",
        "fake = fake[:11740]\n",
        "true = true[:10708]\n",
        "\n",
        "print(fake.head())\n",
        "print(true.head())"
      ],
      "execution_count": 8,
      "outputs": [
        {
          "output_type": "stream",
          "text": [
            "                                               title  ...               date\n",
            "0   Donald Trump Sends Out Embarrassing New Year’...  ...  December 31, 2017\n",
            "1   Drunk Bragging Trump Staffer Started Russian ...  ...  December 31, 2017\n",
            "2   Sheriff David Clarke Becomes An Internet Joke...  ...  December 30, 2017\n",
            "3   Trump Is So Obsessed He Even Has Obama’s Name...  ...  December 29, 2017\n",
            "4   Pope Francis Just Called Out Donald Trump Dur...  ...  December 25, 2017\n",
            "\n",
            "[5 rows x 4 columns]\n",
            "                                               title  ...                date\n",
            "0  As U.S. budget fight looms, Republicans flip t...  ...  December 31, 2017 \n",
            "1  U.S. military to accept transgender recruits o...  ...  December 29, 2017 \n",
            "2  Senior U.S. Republican senator: 'Let Mr. Muell...  ...  December 31, 2017 \n",
            "3  FBI Russia probe helped by Australian diplomat...  ...  December 30, 2017 \n",
            "4  Trump wants Postal Service to charge 'much mor...  ...  December 29, 2017 \n",
            "\n",
            "[5 rows x 4 columns]\n"
          ],
          "name": "stdout"
        }
      ]
    },
    {
      "cell_type": "code",
      "metadata": {
        "id": "NFZ8bFEIcKce",
        "colab_type": "code",
        "colab": {
          "base_uri": "https://localhost:8080/",
          "height": 185
        },
        "outputId": "c6cf7db5-1e0a-437c-cdd8-efcf917b0e9e"
      },
      "source": [
        "# The last data item after shrink\n",
        "print(fake.iloc[-1])\n",
        "print(true.iloc[-1])"
      ],
      "execution_count": 9,
      "outputs": [
        {
          "output_type": "stream",
          "text": [
            "title      LOVIN’ IT! ARIZONA DUNKIN’ DONUTS Stirs It Up ...\n",
            "text                                                        \n",
            "subject                                             politics\n",
            "date                                             Feb 4, 2017\n",
            "Name: 11739, dtype: object\n",
            "title      Senators say Republican consensus is no vote o...\n",
            "text       WASHINGTON (Reuters) - Key senators said on Tu...\n",
            "subject                                         politicsNews\n",
            "date                                      February 23, 2016 \n",
            "Name: 10707, dtype: object\n"
          ],
          "name": "stdout"
        }
      ]
    },
    {
      "cell_type": "markdown",
      "metadata": {
        "id": "ACsFPgNP-WcZ",
        "colab_type": "text"
      },
      "source": [
        "**3. Preprocess the Data**"
      ]
    },
    {
      "cell_type": "code",
      "metadata": {
        "id": "wPbz1Gt77-bq",
        "colab_type": "code",
        "colab": {}
      },
      "source": [
        "# Entering 1 for fake and 0 for true in fake_news \n",
        "# column for both the dataframes\n",
        "fake_news = []\n",
        "for row in range(len(fake)):\n",
        "  fake_news.append(\"fake\")\n",
        "fake[\"is_fake\"] = fake_news\n",
        "\n",
        "fake_news = []\n",
        "for row in range(len(true)):\n",
        "  fake_news.append(\"true\")\n",
        "true[\"is_fake\"] = fake_news"
      ],
      "execution_count": 10,
      "outputs": []
    },
    {
      "cell_type": "code",
      "metadata": {
        "id": "9TbY26NK9LoK",
        "colab_type": "code",
        "colab": {
          "base_uri": "https://localhost:8080/",
          "height": 286
        },
        "outputId": "949015aa-0093-466b-e66a-cbe6a1339aba"
      },
      "source": [
        "print(fake.head())\n",
        "print(true.head())"
      ],
      "execution_count": 11,
      "outputs": [
        {
          "output_type": "stream",
          "text": [
            "                                               title  ... is_fake\n",
            "0   Donald Trump Sends Out Embarrassing New Year’...  ...    fake\n",
            "1   Drunk Bragging Trump Staffer Started Russian ...  ...    fake\n",
            "2   Sheriff David Clarke Becomes An Internet Joke...  ...    fake\n",
            "3   Trump Is So Obsessed He Even Has Obama’s Name...  ...    fake\n",
            "4   Pope Francis Just Called Out Donald Trump Dur...  ...    fake\n",
            "\n",
            "[5 rows x 5 columns]\n",
            "                                               title  ... is_fake\n",
            "0  As U.S. budget fight looms, Republicans flip t...  ...    true\n",
            "1  U.S. military to accept transgender recruits o...  ...    true\n",
            "2  Senior U.S. Republican senator: 'Let Mr. Muell...  ...    true\n",
            "3  FBI Russia probe helped by Australian diplomat...  ...    true\n",
            "4  Trump wants Postal Service to charge 'much mor...  ...    true\n",
            "\n",
            "[5 rows x 5 columns]\n"
          ],
          "name": "stdout"
        }
      ]
    },
    {
      "cell_type": "code",
      "metadata": {
        "id": "C4h_cr2d9SgL",
        "colab_type": "code",
        "colab": {
          "base_uri": "https://localhost:8080/",
          "height": 738
        },
        "outputId": "1b1d06fd-8c47-42fb-8000-ac2a45ffbb5e"
      },
      "source": [
        "# We are using merge function to combine both the datafames. \n",
        "# Keyword \"outer\" is used to include all the columns during merge. \n",
        "news = pd.merge(fake,true, how = \"outer\")\n",
        "news"
      ],
      "execution_count": 12,
      "outputs": [
        {
          "output_type": "execute_result",
          "data": {
            "text/html": [
              "<div>\n",
              "<style scoped>\n",
              "    .dataframe tbody tr th:only-of-type {\n",
              "        vertical-align: middle;\n",
              "    }\n",
              "\n",
              "    .dataframe tbody tr th {\n",
              "        vertical-align: top;\n",
              "    }\n",
              "\n",
              "    .dataframe thead th {\n",
              "        text-align: right;\n",
              "    }\n",
              "</style>\n",
              "<table border=\"1\" class=\"dataframe\">\n",
              "  <thead>\n",
              "    <tr style=\"text-align: right;\">\n",
              "      <th></th>\n",
              "      <th>title</th>\n",
              "      <th>text</th>\n",
              "      <th>subject</th>\n",
              "      <th>date</th>\n",
              "      <th>is_fake</th>\n",
              "    </tr>\n",
              "  </thead>\n",
              "  <tbody>\n",
              "    <tr>\n",
              "      <th>0</th>\n",
              "      <td>Donald Trump Sends Out Embarrassing New Year’...</td>\n",
              "      <td>Donald Trump just couldn t wish all Americans ...</td>\n",
              "      <td>News</td>\n",
              "      <td>December 31, 2017</td>\n",
              "      <td>fake</td>\n",
              "    </tr>\n",
              "    <tr>\n",
              "      <th>1</th>\n",
              "      <td>Drunk Bragging Trump Staffer Started Russian ...</td>\n",
              "      <td>House Intelligence Committee Chairman Devin Nu...</td>\n",
              "      <td>News</td>\n",
              "      <td>December 31, 2017</td>\n",
              "      <td>fake</td>\n",
              "    </tr>\n",
              "    <tr>\n",
              "      <th>2</th>\n",
              "      <td>Sheriff David Clarke Becomes An Internet Joke...</td>\n",
              "      <td>On Friday, it was revealed that former Milwauk...</td>\n",
              "      <td>News</td>\n",
              "      <td>December 30, 2017</td>\n",
              "      <td>fake</td>\n",
              "    </tr>\n",
              "    <tr>\n",
              "      <th>3</th>\n",
              "      <td>Trump Is So Obsessed He Even Has Obama’s Name...</td>\n",
              "      <td>On Christmas day, Donald Trump announced that ...</td>\n",
              "      <td>News</td>\n",
              "      <td>December 29, 2017</td>\n",
              "      <td>fake</td>\n",
              "    </tr>\n",
              "    <tr>\n",
              "      <th>4</th>\n",
              "      <td>Pope Francis Just Called Out Donald Trump Dur...</td>\n",
              "      <td>Pope Francis used his annual Christmas Day mes...</td>\n",
              "      <td>News</td>\n",
              "      <td>December 25, 2017</td>\n",
              "      <td>fake</td>\n",
              "    </tr>\n",
              "    <tr>\n",
              "      <th>...</th>\n",
              "      <td>...</td>\n",
              "      <td>...</td>\n",
              "      <td>...</td>\n",
              "      <td>...</td>\n",
              "      <td>...</td>\n",
              "    </tr>\n",
              "    <tr>\n",
              "      <th>22443</th>\n",
              "      <td>Senators push protections for opioid-dependent...</td>\n",
              "      <td>WASHINGTON (Reuters) - Key senators said on Tu...</td>\n",
              "      <td>politicsNews</td>\n",
              "      <td>February 23, 2016</td>\n",
              "      <td>true</td>\n",
              "    </tr>\n",
              "    <tr>\n",
              "      <th>22444</th>\n",
              "      <td>Judiciary committee senators won't consider Ob...</td>\n",
              "      <td>WASHINGTON (Reuters) - Republicans on the U.S....</td>\n",
              "      <td>politicsNews</td>\n",
              "      <td>February 23, 2016</td>\n",
              "      <td>true</td>\n",
              "    </tr>\n",
              "    <tr>\n",
              "      <th>22445</th>\n",
              "      <td>N.C. city's vote to expand transgender rights ...</td>\n",
              "      <td>(Reuters) - A top North Carolina lawmaker vowe...</td>\n",
              "      <td>politicsNews</td>\n",
              "      <td>February 23, 2016</td>\n",
              "      <td>true</td>\n",
              "    </tr>\n",
              "    <tr>\n",
              "      <th>22446</th>\n",
              "      <td>Italy summons U.S. ambassador after reports U....</td>\n",
              "      <td>ROME (Reuters) - Italy’s foreign ministry summ...</td>\n",
              "      <td>politicsNews</td>\n",
              "      <td>February 23, 2016</td>\n",
              "      <td>true</td>\n",
              "    </tr>\n",
              "    <tr>\n",
              "      <th>22447</th>\n",
              "      <td>Senators say Republican consensus is no vote o...</td>\n",
              "      <td>WASHINGTON (Reuters) - Key senators said on Tu...</td>\n",
              "      <td>politicsNews</td>\n",
              "      <td>February 23, 2016</td>\n",
              "      <td>true</td>\n",
              "    </tr>\n",
              "  </tbody>\n",
              "</table>\n",
              "<p>22448 rows × 5 columns</p>\n",
              "</div>"
            ],
            "text/plain": [
              "                                                   title  ... is_fake\n",
              "0       Donald Trump Sends Out Embarrassing New Year’...  ...    fake\n",
              "1       Drunk Bragging Trump Staffer Started Russian ...  ...    fake\n",
              "2       Sheriff David Clarke Becomes An Internet Joke...  ...    fake\n",
              "3       Trump Is So Obsessed He Even Has Obama’s Name...  ...    fake\n",
              "4       Pope Francis Just Called Out Donald Trump Dur...  ...    fake\n",
              "...                                                  ...  ...     ...\n",
              "22443  Senators push protections for opioid-dependent...  ...    true\n",
              "22444  Judiciary committee senators won't consider Ob...  ...    true\n",
              "22445  N.C. city's vote to expand transgender rights ...  ...    true\n",
              "22446  Italy summons U.S. ambassador after reports U....  ...    true\n",
              "22447  Senators say Republican consensus is no vote o...  ...    true\n",
              "\n",
              "[22448 rows x 5 columns]"
            ]
          },
          "metadata": {
            "tags": []
          },
          "execution_count": 12
        }
      ]
    },
    {
      "cell_type": "code",
      "metadata": {
        "id": "1fUiKD09RXau",
        "colab_type": "code",
        "colab": {
          "base_uri": "https://localhost:8080/",
          "height": 330
        },
        "outputId": "7f199b63-4cde-4673-a0d4-498b2c47d96e"
      },
      "source": [
        "# check class distribution\n",
        "classes = news[\"is_fake\"]\n",
        "print(classes.value_counts())\n",
        "classes.hist()\n",
        "plt.xlabel(\"Classes in is_fake\")\n",
        "plt.ylabel(\"Number of records\")\n",
        "plt.show()"
      ],
      "execution_count": 13,
      "outputs": [
        {
          "output_type": "stream",
          "text": [
            "fake    11740\n",
            "true    10708\n",
            "Name: is_fake, dtype: int64\n"
          ],
          "name": "stdout"
        },
        {
          "output_type": "display_data",
          "data": {
            "image/png": "[encoded data removed]",
            "text/plain": [
              "<Figure size 432x288 with 1 Axes>"
            ]
          },
          "metadata": {
            "tags": [],
            "needs_background": "light"
          }
        }
      ]
    },
    {
      "cell_type": "code",
      "metadata": {
        "id": "w3PORSXQQu5h",
        "colab_type": "code",
        "colab": {
          "base_uri": "https://localhost:8080/",
          "height": 34
        },
        "outputId": "43cbac97-ee4e-4b35-822c-bf69711e3331"
      },
      "source": [
        "# convert class labels to binary values, 0 = fake and 1 = true\n",
        "encoder = LabelEncoder()\n",
        "is_fake = encoder.fit_transform(classes)\n",
        "\n",
        "print(is_fake[:10])"
      ],
      "execution_count": 14,
      "outputs": [
        {
          "output_type": "stream",
          "text": [
            "[0 0 0 0 0 0 0 0 0 0]\n"
          ],
          "name": "stdout"
        }
      ]
    },
    {
      "cell_type": "code",
      "metadata": {
        "id": "JXnzT2zl8Oyf",
        "colab_type": "code",
        "colab": {
          "base_uri": "https://localhost:8080/",
          "height": 202
        },
        "outputId": "917f8397-ed3f-495a-c269-a71129410e53"
      },
      "source": [
        "# store the headlines of every news and print first 10 headlines \n",
        "headlines = news[\"title\"]\n",
        "print(headlines[:10])"
      ],
      "execution_count": 15,
      "outputs": [
        {
          "output_type": "stream",
          "text": [
            "0     Donald Trump Sends Out Embarrassing New Year’...\n",
            "1     Drunk Bragging Trump Staffer Started Russian ...\n",
            "2     Sheriff David Clarke Becomes An Internet Joke...\n",
            "3     Trump Is So Obsessed He Even Has Obama’s Name...\n",
            "4     Pope Francis Just Called Out Donald Trump Dur...\n",
            "5     Racist Alabama Cops Brutalize Black Boy While...\n",
            "6     Fresh Off The Golf Course, Trump Lashes Out A...\n",
            "7     Trump Said Some INSANELY Racist Stuff Inside ...\n",
            "8     Former CIA Director Slams Trump Over UN Bully...\n",
            "9     WATCH: Brand-New Pro-Trump Ad Features So Muc...\n",
            "Name: title, dtype: object\n"
          ],
          "name": "stdout"
        }
      ]
    },
    {
      "cell_type": "code",
      "metadata": {
        "id": "EDa7ciuGLEaS",
        "colab_type": "code",
        "colab": {}
      },
      "source": [
        "# Remove punctuation. We are using regular expression to remove \n",
        "# punctuation from the selected string. The line below takes every\n",
        "# headline from headlines and converts it into a string. The quoted\n",
        "# '[^\\w\\d\\s]' is an RE used to track any punctuation and then we \n",
        "# replace it with an empty space.\n",
        "headlines = headlines.str.replace(r'[^\\w\\d\\s]', ' ')\n"
      ],
      "execution_count": 16,
      "outputs": []
    },
    {
      "cell_type": "code",
      "metadata": {
        "id": "OIBmQ8ip_qYP",
        "colab_type": "code",
        "colab": {
          "base_uri": "https://localhost:8080/",
          "height": 202
        },
        "outputId": "53963d79-6166-4f1a-de0e-7f2f38d549c5"
      },
      "source": [
        "#change words to lowercase\n",
        "headlines = headlines.str.lower() \n",
        "print(headlines[:10])"
      ],
      "execution_count": 17,
      "outputs": [
        {
          "output_type": "stream",
          "text": [
            "0     donald trump sends out embarrassing new year ...\n",
            "1     drunk bragging trump staffer started russian ...\n",
            "2     sheriff david clarke becomes an internet joke...\n",
            "3     trump is so obsessed he even has obama s name...\n",
            "4     pope francis just called out donald trump dur...\n",
            "5     racist alabama cops brutalize black boy while...\n",
            "6     fresh off the golf course  trump lashes out a...\n",
            "7     trump said some insanely racist stuff inside ...\n",
            "8     former cia director slams trump over un bully...\n",
            "9     watch  brand new pro trump ad features so muc...\n",
            "Name: title, dtype: object\n"
          ],
          "name": "stdout"
        }
      ]
    },
    {
      "cell_type": "markdown",
      "metadata": {
        "id": "sS8V9w8nD7U6",
        "colab_type": "text"
      },
      "source": [
        "Stopwords are the words in any language which does not add much meaning to a sentence. They can safely be ignored without sacrificing the meaning of the sentence. For some search engines, these are some of the most common, short function words, such as the, is, at, which, and on."
      ]
    },
    {
      "cell_type": "code",
      "metadata": {
        "id": "7i-GmXBDAJpH",
        "colab_type": "code",
        "colab": {
          "base_uri": "https://localhost:8080/",
          "height": 202
        },
        "outputId": "f4b0c815-46a7-4665-ec3a-0c29811b37ff"
      },
      "source": [
        "#Removing stopwords from news headlines\n",
        "\n",
        "stop_words = set(stopwords.words(\"english\")) \n",
        "\n",
        "headlines = headlines.apply(lambda x : \" \".join(word for word in x.split() if word not in stop_words))\n",
        "\n",
        "print(headlines[:10])"
      ],
      "execution_count": 18,
      "outputs": [
        {
          "output_type": "stream",
          "text": [
            "0    donald trump sends embarrassing new year eve m...\n",
            "1    drunk bragging trump staffer started russian c...\n",
            "2    sheriff david clarke becomes internet joke thr...\n",
            "3    trump obsessed even obama name coded website i...\n",
            "4    pope francis called donald trump christmas speech\n",
            "5    racist alabama cops brutalize black boy handcu...\n",
            "6    fresh golf course trump lashes fbi deputy dire...\n",
            "7    trump said insanely racist stuff inside oval o...\n",
            "8    former cia director slams trump un bullying op...\n",
            "9    watch brand new pro trump ad features much kis...\n",
            "Name: title, dtype: object\n"
          ],
          "name": "stdout"
        }
      ]
    },
    {
      "cell_type": "markdown",
      "metadata": {
        "id": "SPL2m5auEXcf",
        "colab_type": "text"
      },
      "source": [
        "Removing stopwords can potentially help improve the performance as there are fewer and only meaningful tokens left. Thus, it could increase classification accuracy. Even search engines like Google remove stopwords for fast and relevant retrieval of data from the database."
      ]
    },
    {
      "cell_type": "markdown",
      "metadata": {
        "id": "o3UcI8FhFdCu",
        "colab_type": "text"
      },
      "source": [
        "In English grammar and morphology, a stem is the form of a word before any inflectional affixes are added. In English, most stems also qualify as words. The term base is commonly used by linguists to refer to any stem (or root) to which an affix is attached."
      ]
    },
    {
      "cell_type": "code",
      "metadata": {
        "id": "mnufnWNKCMXC",
        "colab_type": "code",
        "colab": {
          "base_uri": "https://localhost:8080/",
          "height": 202
        },
        "outputId": "c07a2db5-edd2-43c3-cc7c-3e95ede11088"
      },
      "source": [
        "# Remove affixes to give stems using a Porter stemmer\n",
        "ps = nltk.PorterStemmer()\n",
        "\n",
        "headlines = headlines.apply(lambda x: ' '.join(ps.stem(word) \n",
        "                            for word in x.split()))\n",
        "\n",
        "print(headlines[:10])"
      ],
      "execution_count": 19,
      "outputs": [
        {
          "output_type": "stream",
          "text": [
            "0    donald trump send embarrass new year eve messa...\n",
            "1    drunk brag trump staffer start russian collus ...\n",
            "2    sheriff david clark becom internet joke threat...\n",
            "3        trump obsess even obama name code websit imag\n",
            "4        pope franci call donald trump christma speech\n",
            "5    racist alabama cop brutal black boy handcuff g...\n",
            "6    fresh golf cours trump lash fbi deputi directo...\n",
            "7    trump said insan racist stuff insid oval offic...\n",
            "8    former cia director slam trump un bulli openli...\n",
            "9    watch brand new pro trump ad featur much kiss ...\n",
            "Name: title, dtype: object\n"
          ],
          "name": "stdout"
        }
      ]
    },
    {
      "cell_type": "markdown",
      "metadata": {
        "id": "yMzjLzeWFvPB",
        "colab_type": "text"
      },
      "source": [
        "By using PorterStemmer we have successfully removed all the affixes and only root words remain. For instance \"sends\" in the first headline becomes \"send\" and \"embarrassing\" becomes embarrass.    "
      ]
    },
    {
      "cell_type": "markdown",
      "metadata": {
        "id": "fQa56hY6GeOr",
        "colab_type": "text"
      },
      "source": [
        "**4. Generating Features**"
      ]
    },
    {
      "cell_type": "code",
      "metadata": {
        "id": "0k1OKv0TGV5i",
        "colab_type": "code",
        "colab": {
          "base_uri": "https://localhost:8080/",
          "height": 34
        },
        "outputId": "6b008003-9fb3-4fce-a2a0-aa1bdc0fd76f"
      },
      "source": [
        "# creating a collection of all the words\n",
        "\n",
        "all_words = []\n",
        "\n",
        "for line in headlines:\n",
        "    words = word_tokenize(line)\n",
        "    for word in words:\n",
        "        all_words.append(word)\n",
        "\n",
        "print(len(all_words))        \n",
        "\n",
        "all_words = nltk.FreqDist(all_words)"
      ],
      "execution_count": 20,
      "outputs": [
        {
          "output_type": "stream",
          "text": [
            "206497\n"
          ],
          "name": "stdout"
        }
      ]
    },
    {
      "cell_type": "code",
      "metadata": {
        "id": "QWr9ZhRkJZbW",
        "colab_type": "code",
        "colab": {
          "base_uri": "https://localhost:8080/",
          "height": 70
        },
        "outputId": "a4156e95-c6ba-4b00-fbfe-6527bd6f6dd5"
      },
      "source": [
        "# print the total number of words and the 15 most common words\n",
        "print('Number of words: {}'.format(len(all_words)))\n",
        "print('Most common words: {}'.format(all_words.most_common(15)))"
      ],
      "execution_count": 21,
      "outputs": [
        {
          "output_type": "stream",
          "text": [
            "Number of words: 10174\n",
            "Most common words: [('trump', 11274), ('video', 4022), ('u', 3198), ('say', 1980), ('republican', 1602), ('hous', 1584), ('senat', 1416), ('obama', 1401), ('watch', 1279), ('white', 1130), ('presid', 981), ('clinton', 978), ('tweet', 970), ('bill', 919), ('democrat', 886)]\n"
          ],
          "name": "stdout"
        }
      ]
    },
    {
      "cell_type": "markdown",
      "metadata": {
        "id": "_MJtHN1TJrjr",
        "colab_type": "text"
      },
      "source": [
        "So we have approx. 206500 words in total made from 10,174 unique words and nltk.FreqDist() function gives us the frequency of occurence of each word. The most_common function when applied to the result of FreqDist() gives a list of tuples containing words with highest frequency and their corresponding frequency in descending order."
      ]
    },
    {
      "cell_type": "code",
      "metadata": {
        "id": "_HCT5JARKDhY",
        "colab_type": "code",
        "colab": {}
      },
      "source": [
        "# use the 2300 most common words as features\n",
        "word_features = list(all_words.keys())[:2300]"
      ],
      "execution_count": 22,
      "outputs": []
    },
    {
      "cell_type": "code",
      "metadata": {
        "id": "LeGLFLArMjmj",
        "colab_type": "code",
        "colab": {
          "base_uri": "https://localhost:8080/",
          "height": 168
        },
        "outputId": "b80b331f-c9d1-4bbf-b1a6-ccc70f71ebd5"
      },
      "source": [
        "# The find_features function will determine which of \n",
        "# the 2300 word features are contained in the headlines\n",
        "def find_features(headline):\n",
        "    words = word_tokenize(headline)\n",
        "    features = {}\n",
        "    for word in word_features:\n",
        "        features[word] = (word in words)\n",
        "\n",
        "    return features\n",
        "\n",
        "# Let's see an example!\n",
        "features = find_features(headlines[0])\n",
        "for key, value in features.items():\n",
        "    if value == True:\n",
        "        print(key)"
      ],
      "execution_count": 23,
      "outputs": [
        {
          "output_type": "stream",
          "text": [
            "donald\n",
            "trump\n",
            "send\n",
            "embarrass\n",
            "new\n",
            "year\n",
            "eve\n",
            "messag\n",
            "disturb\n"
          ],
          "name": "stdout"
        }
      ]
    },
    {
      "cell_type": "markdown",
      "metadata": {
        "id": "GgNtOX7YhZYw",
        "colab_type": "text"
      },
      "source": [
        "Note: The code below is delicate as we are using shuffle function and generating featuresset. If you run into any error then do not re-run the cell.\n",
        "Instead restart the kernel and run all the cells again."
      ]
    },
    {
      "cell_type": "code",
      "metadata": {
        "id": "jcysXN2vNs6r",
        "colab_type": "code",
        "colab": {}
      },
      "source": [
        "# Now lets do it for all the headlines\n",
        "headlines = list(zip(headlines, is_fake))\n",
        "# define a seed for reproducibility\n",
        "seed = 1\n",
        "np.random.seed = seed\n",
        "np.random.shuffle(headlines)\n",
        "\n",
        "# call find_features function for each headline\n",
        "featuresets = [(find_features(headline), category) for (headline, category) in headlines]\n"
      ],
      "execution_count": 24,
      "outputs": []
    },
    {
      "cell_type": "code",
      "metadata": {
        "id": "_jkVWujeSfRT",
        "colab_type": "code",
        "colab": {}
      },
      "source": [
        "# we can split the featuresets into training and testing datasets using model_selection in sklearn\n",
        "# split the data into training and testing datasets\n",
        "\n",
        "training, testing = train_test_split(featuresets, \n",
        "                                     test_size = 0.25, \n",
        "                                     random_state=seed)"
      ],
      "execution_count": 25,
      "outputs": []
    },
    {
      "cell_type": "code",
      "metadata": {
        "id": "7jyoPFOHhQFR",
        "colab_type": "code",
        "colab": {
          "base_uri": "https://localhost:8080/",
          "height": 50
        },
        "outputId": "29e363ac-873e-4a49-a5a1-45e022e2ee74"
      },
      "source": [
        "print(len(training))\n",
        "print(len(testing))"
      ],
      "execution_count": 26,
      "outputs": [
        {
          "output_type": "stream",
          "text": [
            "16836\n",
            "5612\n"
          ],
          "name": "stdout"
        }
      ]
    },
    {
      "cell_type": "markdown",
      "metadata": {
        "id": "OZ-HeZMCiTq1",
        "colab_type": "text"
      },
      "source": [
        "**5. Scikit-Learn Classifiers with NLTK**\n",
        "\n",
        "> \n",
        "We'll need to import each algorithm we plan on using from sklearn. We also need to import some performance metrics, such as accuracy_score and classification_report.\n",
        "\n"
      ]
    },
    {
      "cell_type": "code",
      "metadata": {
        "id": "Mx2gRqmciO_v",
        "colab_type": "code",
        "colab": {
          "base_uri": "https://localhost:8080/",
          "height": 67
        },
        "outputId": "d5ba58f4-b1d2-48a2-e954-9ce068c6d1fe"
      },
      "source": [
        "from nltk.classify.scikitlearn import SklearnClassifier\n",
        "from sklearn.linear_model import LogisticRegression\n",
        "from sklearn.neighbors import KNeighborsClassifier\n",
        "from sklearn.tree import DecisionTreeClassifier\n",
        "from sklearn.ensemble import RandomForestClassifier\n",
        "from sklearn.linear_model import SGDClassifier\n",
        "from sklearn.naive_bayes import MultinomialNB\n",
        "from sklearn.svm import SVC\n",
        "from sklearn.metrics import classification_report, accuracy_score, confusion_matrix, max_error\n",
        "\n",
        "nltk_model = SklearnClassifier(LogisticRegression(verbose=True))\n",
        "\n",
        "# train the model on the training data\n",
        "nltk_model.train(training)\n",
        "\n",
        "# and test on the testing dataset!\n",
        "accuracy = nltk.classify.accuracy(nltk_model, testing)*100\n",
        "print(\"Logistic Regression Accuracy: {}\".format(accuracy))"
      ],
      "execution_count": 27,
      "outputs": [
        {
          "output_type": "stream",
          "text": [
            "[Parallel(n_jobs=1)]: Using backend SequentialBackend with 1 concurrent workers.\n",
            "[Parallel(n_jobs=1)]: Done   1 out of   1 | elapsed:   10.7s finished\n"
          ],
          "name": "stderr"
        },
        {
          "output_type": "stream",
          "text": [
            "Logistic Regression Accuracy: 92.78332145402709\n"
          ],
          "name": "stdout"
        }
      ]
    },
    {
      "cell_type": "markdown",
      "metadata": {
        "id": "u7dHYO4XofWz",
        "colab_type": "text"
      },
      "source": [
        "# **Introduction to Classifiers**\n",
        "# KNeighborsClassifier()\n",
        "> The K-neighbors classification in KNeighborsClassifier is the most commonly used technique. The optimal choice of the value K is highly data-dependent: in general a larger K suppresses the effects of noise, but makes the classification boundaries less distinct.\n",
        "\n",
        "# DecisionTreeClassifier()\n",
        "> DecisionTreeClassifier is a class capable of performing multi-class classification on a dataset.DecisionTreeClassifier takes as input two arrays: an array X, sparse or dense, of size [n_samples, n_features] holding the training samples, and an array Y of integer values, size [n_samples], holding the class labels for the training samples.It is capable of both binary classification and multiclass classification.\n",
        "\n",
        "# RandomForestClassifier()\n",
        ">A random forest is a meta estimator that fits a number of decision tree classifiers on various sub-samples of the dataset and use averaging to improve the predictive accuracy and control over-fitting.\n",
        "\n",
        "# SGDClassifier()\n",
        ">This estimator implements regularized linear models with stochastic gradient descent (SGD) learning: the gradient of the loss is estimated each sample at a time and the model is updated along the way with a decreasing strength schedule (aka learning rate). SGD allows minibatch (online/out-of-core) learning via the partial_fit method. For best results using the default learning rate schedule, the data should have zero mean and unit variance.This implementation works with data represented as dense or sparse arrays of floating point values for the features. The model it fits can be controlled with the loss parameter; by default, it fits a linear support vector machine (SVM).\n",
        "\n",
        "# MultinomialNB()\n",
        ">MultinomialNB implements the naive Bayes algorithm for multinomially distributed data, and is one of the two classic naive Bayes variants used in text classification (where the data are typically represented as word vector counts, although tf-idf vectors are also known to work well in practice).The multinomial Naive Bayes classifier is suitable for classification with discrete features (e.g., word counts for text classification). The multinomial distribution normally requires integer feature counts. However, in practice, fractional counts such as tf-idf may also work.\n",
        "\n",
        "# SVC()\n",
        ">The implementation is based on libsvm. The fit time scales at least quadratically with the number of samples and may be impractical beyond tens of thousands of samples.The multiclass support is handled according to a one-vs-one scheme. \n",
        "\n",
        "\n",
        "\n",
        "\n",
        "\n",
        "\n",
        "\n",
        "\n",
        "\n",
        "\n"
      ]
    },
    {
      "cell_type": "code",
      "metadata": {
        "id": "HHps5TxMMatY",
        "colab_type": "code",
        "colab": {
          "base_uri": "https://localhost:8080/",
          "height": 118
        },
        "outputId": "4a78901b-6998-4b72-c87a-9ce338fea729"
      },
      "source": [
        "# Define models to train\n",
        "names = [\"K Nearest Neighbors\", \n",
        "         \"Decision Tree\", \n",
        "         \"Random Forest\",  \n",
        "         \"SGD Classifier\",\n",
        "         \"Naive Bayes\", \n",
        "         \"SVM Linear\"]\n",
        "\n",
        "classifiers = [\n",
        "    KNeighborsClassifier(),\n",
        "    DecisionTreeClassifier(),\n",
        "    RandomForestClassifier(),\n",
        "    SGDClassifier(max_iter = 100),\n",
        "    MultinomialNB(),\n",
        "    SVC(kernel = 'linear')\n",
        "]\n",
        "\n",
        "models = zip(names, classifiers)\n",
        "\n",
        "for name, model in models:\n",
        "    nltk_model = SklearnClassifier(model)\n",
        "    nltk_model.train(training)\n",
        "    accuracy = nltk.classify.accuracy(nltk_model, testing)*100\n",
        "    print(\"{} Accuracy: {}\".format(name, accuracy))"
      ],
      "execution_count": 28,
      "outputs": [
        {
          "output_type": "stream",
          "text": [
            "K Nearest Neighbors Accuracy: 66.80327868852459\n",
            "Decision Tree Accuracy: 87.27726300784035\n",
            "Random Forest Accuracy: 91.07270135424092\n",
            "SGD Classifier Accuracy: 92.74768353528154\n",
            "Naive Bayes Accuracy: 91.00142551674982\n",
            "SVM Linear Accuracy: 92.60513186029937\n"
          ],
          "name": "stdout"
        }
      ]
    },
    {
      "cell_type": "markdown",
      "metadata": {
        "id": "OCmKQdWkza_A",
        "colab_type": "text"
      },
      "source": [
        "#Purpose of VotingClassifier\n",
        "The idea behind the VotingClassifier is to combine conceptually different machine learning classifiers and use a majority vote or the average predicted probabilities (soft vote) to predict the class labels. Such a classifier can be useful for a set of equally well performing model in order to balance out their individual weaknesses.\n",
        "\n",
        "In majority voting, the predicted class label for a particular sample is the class label that represents the majority (mode) of the class labels predicted by each individual classifier.\n",
        "\n",
        "E.g., if the prediction for a given sample is\n",
        "\n",
        "classifier 1 -> class 1\n",
        "\n",
        "classifier 2 -> class 1\n",
        "\n",
        "classifier 3 -> class 2\n",
        "\n",
        "the VotingClassifier (with voting='hard') would classify the sample as “class 1” based on the majority class label.\n",
        "\n",
        "In the cases of a tie, the VotingClassifier will select the class based on the ascending sort order. E.g., in the following scenario\n",
        "\n",
        "classifier 1 -> class 2\n",
        "\n",
        "classifier 2 -> class 1\n",
        "\n",
        "the class label 1 will be assigned to the sample.\n",
        "\n",
        "The output of the next cell will be the accuracy of our model computed as explained above. "
      ]
    },
    {
      "cell_type": "code",
      "metadata": {
        "id": "YtuViXzoVOYh",
        "colab_type": "code",
        "colab": {
          "base_uri": "https://localhost:8080/",
          "height": 34
        },
        "outputId": "f3edb135-3ead-4a19-b221-77e7b69ae70d"
      },
      "source": [
        "# Ensemble methods - Voting classifier\n",
        "from sklearn.ensemble import VotingClassifier\n",
        "\n",
        "names = [\"K Nearest Neighbors\", \n",
        "         \"Decision Tree\", \n",
        "         \"Random Forest\", \n",
        "         \"Logistic Regression\", \n",
        "         \"SGD Classifier\",\n",
        "         \"Naive Bayes\", \n",
        "         \"SVM Linear\"]\n",
        "\n",
        "classifiers = [\n",
        "    KNeighborsClassifier(),\n",
        "    DecisionTreeClassifier(),\n",
        "    RandomForestClassifier(),\n",
        "    LogisticRegression(),\n",
        "    SGDClassifier(max_iter = 100),\n",
        "    MultinomialNB(),\n",
        "    SVC(kernel = 'linear')\n",
        "]\n",
        "\n",
        "models = list(zip(names, classifiers))\n",
        "\n",
        "nltk_ensemble = SklearnClassifier(VotingClassifier(estimators = models, voting = 'hard', n_jobs = -1))\n",
        "nltk_ensemble.train(training)\n",
        "accuracy = nltk.classify.accuracy(nltk_model, testing)*100\n",
        "print(\"Voting Classifier: Accuracy: {}\".format(accuracy))"
      ],
      "execution_count": 29,
      "outputs": [
        {
          "output_type": "stream",
          "text": [
            "Voting Classifier: Accuracy: 92.60513186029937\n"
          ],
          "name": "stdout"
        }
      ]
    },
    {
      "cell_type": "code",
      "metadata": {
        "id": "ECHX4Y-NGggj",
        "colab_type": "code",
        "colab": {}
      },
      "source": [
        "# make class label prediction for testing set\n",
        "headline_features, labels = zip(*testing)\n",
        "\n",
        "prediction = nltk_ensemble.classify_many(headline_features)"
      ],
      "execution_count": 30,
      "outputs": []
    },
    {
      "cell_type": "code",
      "metadata": {
        "id": "sRHQ2eCWQoQ_",
        "colab_type": "code",
        "colab": {
          "base_uri": "https://localhost:8080/",
          "height": 287
        },
        "outputId": "160b66ea-8211-4361-f993-1eb990dc75e9"
      },
      "source": [
        "# print a confusion matrix and a classification report\n",
        "print(classification_report(labels, prediction))\n",
        "\n",
        "pd.DataFrame(\n",
        "    confusion_matrix(labels, prediction),\n",
        "    index = [['actual', 'actual'], ['fake', 'true']],\n",
        "    columns = [['predicted', 'predicted'], ['fake', 'true']])"
      ],
      "execution_count": 31,
      "outputs": [
        {
          "output_type": "stream",
          "text": [
            "              precision    recall  f1-score   support\n",
            "\n",
            "           0       0.95      0.91      0.93      2882\n",
            "           1       0.91      0.95      0.93      2730\n",
            "\n",
            "    accuracy                           0.93      5612\n",
            "   macro avg       0.93      0.93      0.93      5612\n",
            "weighted avg       0.93      0.93      0.93      5612\n",
            "\n"
          ],
          "name": "stdout"
        },
        {
          "output_type": "execute_result",
          "data": {
            "text/html": [
              "<div>\n",
              "<style scoped>\n",
              "    .dataframe tbody tr th:only-of-type {\n",
              "        vertical-align: middle;\n",
              "    }\n",
              "\n",
              "    .dataframe tbody tr th {\n",
              "        vertical-align: top;\n",
              "    }\n",
              "\n",
              "    .dataframe thead tr th {\n",
              "        text-align: left;\n",
              "    }\n",
              "</style>\n",
              "<table border=\"1\" class=\"dataframe\">\n",
              "  <thead>\n",
              "    <tr>\n",
              "      <th></th>\n",
              "      <th></th>\n",
              "      <th colspan=\"2\" halign=\"left\">predicted</th>\n",
              "    </tr>\n",
              "    <tr>\n",
              "      <th></th>\n",
              "      <th></th>\n",
              "      <th>fake</th>\n",
              "      <th>true</th>\n",
              "    </tr>\n",
              "  </thead>\n",
              "  <tbody>\n",
              "    <tr>\n",
              "      <th rowspan=\"2\" valign=\"top\">actual</th>\n",
              "      <th>fake</th>\n",
              "      <td>2614</td>\n",
              "      <td>268</td>\n",
              "    </tr>\n",
              "    <tr>\n",
              "      <th>true</th>\n",
              "      <td>139</td>\n",
              "      <td>2591</td>\n",
              "    </tr>\n",
              "  </tbody>\n",
              "</table>\n",
              "</div>"
            ],
            "text/plain": [
              "            predicted      \n",
              "                 fake  true\n",
              "actual fake      2614   268\n",
              "       true       139  2591"
            ]
          },
          "metadata": {
            "tags": []
          },
          "execution_count": 31
        }
      ]
    },
    {
      "cell_type": "markdown",
      "metadata": {
        "id": "GH03bCvalK5-",
        "colab_type": "text"
      },
      "source": [
        ""
      ]
    }
  ]
}